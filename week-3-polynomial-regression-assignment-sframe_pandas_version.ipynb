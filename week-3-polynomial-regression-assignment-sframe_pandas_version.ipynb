{
 "cells": [
  {
   "cell_type": "markdown",
   "metadata": {},
   "source": [
    "# Regression Week 3: Assessing Fit (polynomial regression)\n",
    "### pandas sframes version  - Aug 16th"
   ]
  },
  {
   "cell_type": "markdown",
   "metadata": {},
   "source": [
    "In this notebook you will compare different regression models in order to assess which model fits best. We will be using polynomial regression as a means to examine this topic. In particular you will:\n",
    "* Write a function to take an SArray and a degree and return an SFrame where each column is the SArray to a polynomial value up to the total degree e.g. degree = 3 then column 1 is the SArray column 2 is the SArray squared and column 3 is the SArray cubed\n",
    "* Use matplotlib to visualize polynomial regressions\n",
    "* Use matplotlib to visualize the same polynomial degree on different subsets of the data\n",
    "* Use a validation set to select a polynomial degree\n",
    "* Assess the final fit using test data\n",
    "\n",
    "We will continue to use the House data from previous notebooks."
   ]
  },
  {
   "cell_type": "markdown",
   "metadata": {},
   "source": [
    "# Fire up graphlab create"
   ]
  },
  {
   "cell_type": "code",
   "execution_count": 2,
   "metadata": {
    "collapsed": false
   },
   "outputs": [],
   "source": [
    "import pandas as pd\n",
    "import sframe as sf\n",
    "import numpy as np"
   ]
  },
  {
   "cell_type": "markdown",
   "metadata": {},
   "source": [
    "**1.** You’re going to write a function that adds powers of a feature to columns of a data frame. \n",
    "\n",
    "Write a polynomial function that takes an SArray and a maximal degree and returns an SFrame with columns containing the SArray to all the powers up to the maximal degree.\n",
    "\n",
    "The easiest way to apply a power to an SArray is to use the .apply() and lambda x: functions. \n",
    "For example to take the example array and compute the third power we can do as follows: (note running this cell the first time may take longer than expected since it loads graphlab)"
   ]
  },
  {
   "cell_type": "code",
   "execution_count": 3,
   "metadata": {
    "collapsed": false
   },
   "outputs": [
    {
     "name": "stderr",
     "output_type": "stream",
     "text": [
      "[INFO] sframe.cython.cy_server: SFrame v1.10 started. Logging /tmp/sframe_server_1472036978.log\n"
     ]
    },
    {
     "name": "stdout",
     "output_type": "stream",
     "text": [
      "tmp_sf_cube [1.0, 8.0, 27.0]\n",
      "tmp_pd_cube\n",
      "0     1.0\n",
      "1     8.0\n",
      "2    27.0\n",
      "dtype: float64\n",
      "\n",
      "Pandas series can be converted to SArrays\n",
      "\n",
      "pd_series\n",
      "0    1\n",
      "1    2\n",
      "2    3\n",
      "3    4\n",
      "4    5\n",
      "dtype: int64\n",
      "\n",
      "sf_sarray =  [1, 2, 3, 4, 5]\n"
     ]
    }
   ],
   "source": [
    "#creating a simple SArray/list or series containing items [1.0, 2.0, 3.0]\n",
    "#only diff with series is an index is created by default, starting from 0\n",
    "\n",
    "#tmp_gl = gl.SArray([1., 2., 3.])\n",
    "tmp_sf = sf.SArray([1., 2., 3.])\n",
    "tmp_pd = pd.Series([1., 2., 3.])\n",
    "\n",
    "#tmp_gl_cube = tmp_gl.apply(lambda x: x**3)\n",
    "tmp_sf_cube = tmp_sf.apply(lambda x: x**3)\n",
    "tmp_pd_cube = tmp_pd.apply(lambda x: x**3)\n",
    "\n",
    "\n",
    "#print \"tmp_gl_cube\", tmp_gl_cube\n",
    "print \"tmp_sf_cube\", tmp_sf_cube\n",
    "print \"tmp_pd_cube\\n\", tmp_pd_cube\n",
    "\n",
    "\n",
    "print \"\\nPandas series can be converted to SArrays\"\n",
    "pd_series = pd.Series([1,2,3,4,5])\n",
    "sf_sarray = sf.SArray(pd_series)\n",
    "print \"\\npd_series\\n\", pd_series\n",
    "print \"\\nsf_sarray = \", sf_sarray"
   ]
  },
  {
   "cell_type": "markdown",
   "metadata": {},
   "source": [
    "We can create an empty SFrame using SFrame() and then add any columns to it with ex_sframe['column_name'] = value. For example we create an empty SFrame and make the column 'power_1' to be the first power of tmp (i.e. tmp itself)."
   ]
  },
  {
   "cell_type": "code",
   "execution_count": 4,
   "metadata": {
    "collapsed": false
   },
   "outputs": [
    {
     "name": "stdout",
     "output_type": "stream",
     "text": [
      "+---------+---------+---------+\n",
      "| power_1 | power_2 | power_3 |\n",
      "+---------+---------+---------+\n",
      "|   1.0   |   1.0   |   1.0   |\n",
      "|   2.0   |   4.0   |   8.0   |\n",
      "|   3.0   |   9.0   |   27.0  |\n",
      "+---------+---------+---------+\n",
      "[3 rows x 3 columns]\n",
      "\n",
      "   power_1  power_2  power_3\n",
      "0      1.0      1.0      1.0\n",
      "1      2.0      4.0      8.0\n",
      "2      3.0      9.0     27.0\n"
     ]
    }
   ],
   "source": [
    "ex_sframe = sf.SFrame()\n",
    "ex_sframe['power_1'] = tmp_sf\n",
    "ex_sframe['power_2'] = tmp_sf.apply(lambda x: x**2)\n",
    "ex_sframe['power_3'] = tmp_sf.apply(lambda x: x**3)\n",
    "print ex_sframe\n",
    "\n",
    "ex_pdframe = pd.DataFrame()\n",
    "ex_pdframe['power_1'] = tmp_pd.apply(lambda x: x**1)\n",
    "ex_pdframe['power_2'] = tmp_pd.apply(lambda x: x**2)\n",
    "ex_pdframe['power_3'] = tmp_pd.apply(lambda x: x**3)\n",
    "print ex_pdframe"
   ]
  },
  {
   "cell_type": "markdown",
   "metadata": {},
   "source": [
    "# Polynomial_sframe function"
   ]
  },
  {
   "cell_type": "markdown",
   "metadata": {},
   "source": [
    "**2.** Write your own function called ‘polynomial_sframe’ (or otherwise) which accepts an array ‘feature’ and a maximal ‘degree’ and returns an data frame (e.g. SFrame) with the first column equal to ‘feature’ and the remaining columns equal to ‘feature’ to increasing integer powers up to ‘degree’.\n",
    "Using the hints above complete the following function to create an SFrame consisting of the powers of an SArray up to a specific degree:"
   ]
  },
  {
   "cell_type": "code",
   "execution_count": 5,
   "metadata": {
    "collapsed": true
   },
   "outputs": [],
   "source": [
    "def polynomial_sframe(feature, degree):\n",
    "    # assume that degree >= 1\n",
    "    \n",
    "    # create and initialize a new empty SFrame:\n",
    "    poly_sframe = sf.SFrame()\n",
    "    \n",
    "    # create a new column/feature 'power_1' and \n",
    "    # set poly_sframe['power_1'] equal to the passed feature\n",
    "    poly_sframe['power_1'] = feature\n",
    "    \n",
    "    # first check if degree > 1\n",
    "    if degree > 1:\n",
    "        # then loop over the remaining degrees:\n",
    "        # range usually starts at 0 and stops at the endpoint-1. We want it to start at 2 and stop at degree\n",
    "        for power in range(2, degree+1): \n",
    "            # first we'll give the column a name:\n",
    "            name = 'power_' + str(power)\n",
    "            \n",
    "            # then assign poly_sframe[name] to the appropriate power of feature\n",
    "            # poly_sframe[name] = feature.apply(lambda x: x**power)\n",
    "            poly_sframe[name] = poly_sframe['power_1'].apply(lambda x: x**power)\n",
    "            \n",
    "    return poly_sframe  #returns the sframe created"
   ]
  },
  {
   "cell_type": "code",
   "execution_count": 6,
   "metadata": {
    "collapsed": true
   },
   "outputs": [],
   "source": [
    "def polynomial_dframe(feature, degree):\n",
    "    # assume that degree >= 1\n",
    "    \n",
    "    # create and initialize a new pandas dataframe:\n",
    "    # when using Pandas, feature is pandas.Series type\n",
    "    poly_dframe = pd.DataFrame()\n",
    "    \n",
    "    #rest of code will be same\n",
    "    \n",
    "    # create a new column/feature 'power_1' and \n",
    "    # set poly_sframe['power_1'] equal to the passed feature\n",
    "    poly_dframe['power_1'] = feature\n",
    "    \n",
    "    # first check if degree > 1\n",
    "    if degree > 1:\n",
    "        # then loop over the remaining degrees:\n",
    "        # range usually starts at 0 and stops at the endpoint-1. We want it to start at 2 and stop at degree\n",
    "        for power in range(2, degree+1): \n",
    "            # first we'll give the column a name:\n",
    "            name = 'power_' + str(power)\n",
    "            \n",
    "            # then assign poly_sframe[name] to the appropriate power of feature\n",
    "            # poly_sframe[name] = feature.apply(lambda x: x**power)\n",
    "            poly_dframe[name] = poly_dframe['power_1'].apply(lambda x: x**power)\n",
    "            \n",
    "    return poly_dframe  #returns the sframe created"
   ]
  },
  {
   "cell_type": "markdown",
   "metadata": {},
   "source": [
    "To test your function consider the smaller tmp variable and what you would expect the outcome of the following call:"
   ]
  },
  {
   "cell_type": "code",
   "execution_count": 7,
   "metadata": {
    "collapsed": false
   },
   "outputs": [
    {
     "name": "stdout",
     "output_type": "stream",
     "text": [
      "[1.0, 2.0, 3.0]\n",
      "+---------+---------+---------+\n",
      "| power_1 | power_2 | power_3 |\n",
      "+---------+---------+---------+\n",
      "|   1.0   |   1.0   |   1.0   |\n",
      "|   2.0   |   4.0   |   8.0   |\n",
      "|   3.0   |   9.0   |   27.0  |\n",
      "+---------+---------+---------+\n",
      "[3 rows x 3 columns]\n",
      "\n"
     ]
    }
   ],
   "source": [
    "tmp = sf.SArray([1., 2., 3.])\n",
    "print tmp\n",
    "poly_sframe = polynomial_sframe(tmp, 3)\n",
    "print poly_sframe"
   ]
  },
  {
   "cell_type": "code",
   "execution_count": 8,
   "metadata": {
    "collapsed": false
   },
   "outputs": [
    {
     "name": "stdout",
     "output_type": "stream",
     "text": [
      "   power_1  power_2  power_3\n",
      "0      1.0      1.0      1.0\n",
      "1      2.0      4.0      8.0\n",
      "2      3.0      9.0     27.0\n"
     ]
    }
   ],
   "source": [
    "# You can convert the SFrame to pandas dataframes using the SFrames.to_dataframe() method \n",
    "# Note that Pandas is limited by the size of the memory.\n",
    "pd_dataframe = poly_sframe.to_dataframe()\n",
    "print pd_dataframe"
   ]
  },
  {
   "cell_type": "code",
   "execution_count": 9,
   "metadata": {
    "collapsed": false,
    "scrolled": true
   },
   "outputs": [
    {
     "name": "stdout",
     "output_type": "stream",
     "text": [
      "0    1.0\n",
      "1    2.0\n",
      "2    3.0\n",
      "dtype: float64 \n",
      "\n",
      "   power_1  power_2  power_3\n",
      "0      1.0      1.0      1.0\n",
      "1      2.0      4.0      8.0\n",
      "2      3.0      9.0     27.0\n"
     ]
    }
   ],
   "source": [
    "tmp = pd.Series([1., 2., 3.])\n",
    "print tmp, \"\\n\"\n",
    "poly_dframe = polynomial_dframe(tmp, 3)\n",
    "print poly_dframe"
   ]
  },
  {
   "cell_type": "code",
   "execution_count": 10,
   "metadata": {
    "collapsed": false
   },
   "outputs": [
    {
     "name": "stdout",
     "output_type": "stream",
     "text": [
      "+---------+---------+---------+\n",
      "| power_1 | power_2 | power_3 |\n",
      "+---------+---------+---------+\n",
      "|   1.0   |   1.0   |   1.0   |\n",
      "|   2.0   |   4.0   |   8.0   |\n",
      "|   3.0   |   9.0   |   27.0  |\n",
      "+---------+---------+---------+\n",
      "[3 rows x 3 columns]\n",
      "\n"
     ]
    }
   ],
   "source": [
    "# Pandas data frames can be converted to SFrames also - \n",
    "# just pass the dataframe in as parameter when creating/initilizing new SFrame\n",
    "#pd_dataframe = pd.DataFrame({ \n",
    "#     'one' : pd.Series([1., 2., 3., 4.]),\n",
    "#     'two' : pd.Series([5., 6., 7., 8.])})\n",
    "sf_sframe = sf.SFrame(poly_dframe)\n",
    "print sf_sframe"
   ]
  },
  {
   "cell_type": "markdown",
   "metadata": {},
   "source": [
    "# Visualizing polynomial regression"
   ]
  },
  {
   "cell_type": "markdown",
   "metadata": {},
   "source": [
    "**3**. \n",
    "For the remainder of the assignment we will be working with the house Sales data as in the previous notebooks. Load in the data and also sort the sales SFrame by ‘sqft_living’. When we plot the fitted values we want to join them up in a line and this works best if the variable on the X-axis (which will be ‘sqft_living’) is sorted. For houses with identical square footage, we break the tie by their prices.\n",
    "\n",
    "Then we will use matplotlib to visualize what a polynomial regression looks like on some real data."
   ]
  },
  {
   "cell_type": "code",
   "execution_count": 57,
   "metadata": {
    "collapsed": false
   },
   "outputs": [
    {
     "data": {
      "text/html": [
       "<pre>Finished parsing file /mnt/win-data/shared/stats-R/ml_specialization/machine-learning-specialization/course-2/Week3/kc_house_data.csv</pre>"
      ],
      "text/plain": [
       "Finished parsing file /mnt/win-data/shared/stats-R/ml_specialization/machine-learning-specialization/course-2/Week3/kc_house_data.csv"
      ]
     },
     "metadata": {},
     "output_type": "display_data"
    },
    {
     "data": {
      "text/html": [
       "<pre>Parsing completed. Parsed 100 lines in 0.254771 secs.</pre>"
      ],
      "text/plain": [
       "Parsing completed. Parsed 100 lines in 0.254771 secs."
      ]
     },
     "metadata": {},
     "output_type": "display_data"
    },
    {
     "data": {
      "text/html": [
       "<pre>Finished parsing file /mnt/win-data/shared/stats-R/ml_specialization/machine-learning-specialization/course-2/Week3/kc_house_data.csv</pre>"
      ],
      "text/plain": [
       "Finished parsing file /mnt/win-data/shared/stats-R/ml_specialization/machine-learning-specialization/course-2/Week3/kc_house_data.csv"
      ]
     },
     "metadata": {},
     "output_type": "display_data"
    },
    {
     "data": {
      "text/html": [
       "<pre>Parsing completed. Parsed 21613 lines in 0.053027 secs.</pre>"
      ],
      "text/plain": [
       "Parsing completed. Parsed 21613 lines in 0.053027 secs."
      ]
     },
     "metadata": {},
     "output_type": "display_data"
    },
    {
     "name": "stdout",
     "output_type": "stream",
     "text": [
      "(21613, 21613)\n",
      "['id', 'date', 'price', 'bedrooms', 'bathrooms', 'sqft_living', 'sqft_lot', 'floors', 'waterfront', 'view', 'condition', 'grade', 'sqft_above', 'sqft_basement', 'yr_built', 'yr_renovated', 'zipcode', 'lat', 'long', 'sqft_living15', 'sqft_lot15']\n",
      "[<type 'str'>, <type 'str'>, <type 'float'>, <type 'float'>, <type 'float'>, <type 'float'>, <type 'int'>, <type 'str'>, <type 'int'>, <type 'int'>, <type 'int'>, <type 'int'>, <type 'int'>, <type 'int'>, <type 'int'>, <type 'int'>, <type 'str'>, <type 'float'>, <type 'float'>, <type 'float'>, <type 'float'>]\n",
      "+-------------+----------+\n",
      "| sqft_living |  price   |\n",
      "+-------------+----------+\n",
      "|    1180.0   | 221900.0 |\n",
      "|    2570.0   | 538000.0 |\n",
      "+-------------+----------+\n",
      "[2 rows x 2 columns]\n",
      "\n"
     ]
    }
   ],
   "source": [
    "dtype_dict = {'bathrooms':float, 'waterfront':int, 'sqft_above':int, 'sqft_living15':float, 'grade':int, 'yr_renovated':int, 'price':float, 'bedrooms':float, 'zipcode':str, 'long':float, 'sqft_lot15':float, 'sqft_living':float, 'floors':str, 'condition':int, 'lat':float, 'date':str, 'sqft_basement':int, 'yr_built':int, 'id':str, 'sqft_lot':int, 'view':int}\n",
    "\n",
    "# When using sframe with graphlab create\n",
    "# sales_gl = gl.SFrame('../Week2/kc_house_data.gl/')\n",
    "\n",
    "# if using sframes \n",
    "sales_sf = sf.SFrame.read_csv('../Week3/kc_house_data.csv', column_type_hints = dtype_dict)\n",
    "print (sales_sf.num_rows(), len(sales_sf) )\n",
    "print sales_sf.column_names()\n",
    "print sales_sf.column_types()\n",
    "print sales_sf.head(2)['sqft_living', 'price']\n",
    "\n",
    "# if using Pandas\n",
    "sales_pd = pd.read_csv('../Week3/kc_house_data.csv', dtype = dtype_dict)"
   ]
  },
  {
   "cell_type": "markdown",
   "metadata": {},
   "source": [
    "As in Week 3, we will use the sqft_living variable. For plotting purposes (connecting the dots), you'll need to sort by the values of sqft_living. For houses with identical square footage, we break the tie by their prices."
   ]
  },
  {
   "cell_type": "code",
   "execution_count": 12,
   "metadata": {
    "collapsed": false
   },
   "outputs": [
    {
     "data": {
      "text/html": [
       "<div style=\"max-height:1000px;max-width:1500px;overflow:auto;\"><table frame=\"box\" rules=\"cols\">\n",
       "    <tr>\n",
       "        <th style=\"padding-left: 1em; padding-right: 1em; text-align: center\">id</th>\n",
       "        <th style=\"padding-left: 1em; padding-right: 1em; text-align: center\">date</th>\n",
       "        <th style=\"padding-left: 1em; padding-right: 1em; text-align: center\">price</th>\n",
       "        <th style=\"padding-left: 1em; padding-right: 1em; text-align: center\">bedrooms</th>\n",
       "        <th style=\"padding-left: 1em; padding-right: 1em; text-align: center\">bathrooms</th>\n",
       "        <th style=\"padding-left: 1em; padding-right: 1em; text-align: center\">sqft_living</th>\n",
       "        <th style=\"padding-left: 1em; padding-right: 1em; text-align: center\">sqft_lot</th>\n",
       "        <th style=\"padding-left: 1em; padding-right: 1em; text-align: center\">floors</th>\n",
       "        <th style=\"padding-left: 1em; padding-right: 1em; text-align: center\">waterfront</th>\n",
       "        <th style=\"padding-left: 1em; padding-right: 1em; text-align: center\">view</th>\n",
       "    </tr>\n",
       "    <tr>\n",
       "        <td style=\"padding-left: 1em; padding-right: 1em; text-align: center; vertical-align: top\">7129300520</td>\n",
       "        <td style=\"padding-left: 1em; padding-right: 1em; text-align: center; vertical-align: top\">20141013T000000</td>\n",
       "        <td style=\"padding-left: 1em; padding-right: 1em; text-align: center; vertical-align: top\">221900.0</td>\n",
       "        <td style=\"padding-left: 1em; padding-right: 1em; text-align: center; vertical-align: top\">3.0</td>\n",
       "        <td style=\"padding-left: 1em; padding-right: 1em; text-align: center; vertical-align: top\">1.0</td>\n",
       "        <td style=\"padding-left: 1em; padding-right: 1em; text-align: center; vertical-align: top\">1180.0</td>\n",
       "        <td style=\"padding-left: 1em; padding-right: 1em; text-align: center; vertical-align: top\">5650</td>\n",
       "        <td style=\"padding-left: 1em; padding-right: 1em; text-align: center; vertical-align: top\">1</td>\n",
       "        <td style=\"padding-left: 1em; padding-right: 1em; text-align: center; vertical-align: top\">0</td>\n",
       "        <td style=\"padding-left: 1em; padding-right: 1em; text-align: center; vertical-align: top\">0</td>\n",
       "    </tr>\n",
       "    <tr>\n",
       "        <td style=\"padding-left: 1em; padding-right: 1em; text-align: center; vertical-align: top\">6414100192</td>\n",
       "        <td style=\"padding-left: 1em; padding-right: 1em; text-align: center; vertical-align: top\">20141209T000000</td>\n",
       "        <td style=\"padding-left: 1em; padding-right: 1em; text-align: center; vertical-align: top\">538000.0</td>\n",
       "        <td style=\"padding-left: 1em; padding-right: 1em; text-align: center; vertical-align: top\">3.0</td>\n",
       "        <td style=\"padding-left: 1em; padding-right: 1em; text-align: center; vertical-align: top\">2.25</td>\n",
       "        <td style=\"padding-left: 1em; padding-right: 1em; text-align: center; vertical-align: top\">2570.0</td>\n",
       "        <td style=\"padding-left: 1em; padding-right: 1em; text-align: center; vertical-align: top\">7242</td>\n",
       "        <td style=\"padding-left: 1em; padding-right: 1em; text-align: center; vertical-align: top\">2</td>\n",
       "        <td style=\"padding-left: 1em; padding-right: 1em; text-align: center; vertical-align: top\">0</td>\n",
       "        <td style=\"padding-left: 1em; padding-right: 1em; text-align: center; vertical-align: top\">0</td>\n",
       "    </tr>\n",
       "</table>\n",
       "<table frame=\"box\" rules=\"cols\">\n",
       "    <tr>\n",
       "        <th style=\"padding-left: 1em; padding-right: 1em; text-align: center\">condition</th>\n",
       "        <th style=\"padding-left: 1em; padding-right: 1em; text-align: center\">grade</th>\n",
       "        <th style=\"padding-left: 1em; padding-right: 1em; text-align: center\">sqft_above</th>\n",
       "        <th style=\"padding-left: 1em; padding-right: 1em; text-align: center\">sqft_basement</th>\n",
       "        <th style=\"padding-left: 1em; padding-right: 1em; text-align: center\">yr_built</th>\n",
       "        <th style=\"padding-left: 1em; padding-right: 1em; text-align: center\">yr_renovated</th>\n",
       "        <th style=\"padding-left: 1em; padding-right: 1em; text-align: center\">zipcode</th>\n",
       "        <th style=\"padding-left: 1em; padding-right: 1em; text-align: center\">lat</th>\n",
       "        <th style=\"padding-left: 1em; padding-right: 1em; text-align: center\">long</th>\n",
       "        <th style=\"padding-left: 1em; padding-right: 1em; text-align: center\">sqft_living15</th>\n",
       "    </tr>\n",
       "    <tr>\n",
       "        <td style=\"padding-left: 1em; padding-right: 1em; text-align: center; vertical-align: top\">3</td>\n",
       "        <td style=\"padding-left: 1em; padding-right: 1em; text-align: center; vertical-align: top\">7</td>\n",
       "        <td style=\"padding-left: 1em; padding-right: 1em; text-align: center; vertical-align: top\">1180</td>\n",
       "        <td style=\"padding-left: 1em; padding-right: 1em; text-align: center; vertical-align: top\">0</td>\n",
       "        <td style=\"padding-left: 1em; padding-right: 1em; text-align: center; vertical-align: top\">1955</td>\n",
       "        <td style=\"padding-left: 1em; padding-right: 1em; text-align: center; vertical-align: top\">0</td>\n",
       "        <td style=\"padding-left: 1em; padding-right: 1em; text-align: center; vertical-align: top\">98178</td>\n",
       "        <td style=\"padding-left: 1em; padding-right: 1em; text-align: center; vertical-align: top\">47.5112</td>\n",
       "        <td style=\"padding-left: 1em; padding-right: 1em; text-align: center; vertical-align: top\">-122.257</td>\n",
       "        <td style=\"padding-left: 1em; padding-right: 1em; text-align: center; vertical-align: top\">1340.0</td>\n",
       "    </tr>\n",
       "    <tr>\n",
       "        <td style=\"padding-left: 1em; padding-right: 1em; text-align: center; vertical-align: top\">3</td>\n",
       "        <td style=\"padding-left: 1em; padding-right: 1em; text-align: center; vertical-align: top\">7</td>\n",
       "        <td style=\"padding-left: 1em; padding-right: 1em; text-align: center; vertical-align: top\">2170</td>\n",
       "        <td style=\"padding-left: 1em; padding-right: 1em; text-align: center; vertical-align: top\">400</td>\n",
       "        <td style=\"padding-left: 1em; padding-right: 1em; text-align: center; vertical-align: top\">1951</td>\n",
       "        <td style=\"padding-left: 1em; padding-right: 1em; text-align: center; vertical-align: top\">1991</td>\n",
       "        <td style=\"padding-left: 1em; padding-right: 1em; text-align: center; vertical-align: top\">98125</td>\n",
       "        <td style=\"padding-left: 1em; padding-right: 1em; text-align: center; vertical-align: top\">47.721</td>\n",
       "        <td style=\"padding-left: 1em; padding-right: 1em; text-align: center; vertical-align: top\">-122.319</td>\n",
       "        <td style=\"padding-left: 1em; padding-right: 1em; text-align: center; vertical-align: top\">1690.0</td>\n",
       "    </tr>\n",
       "</table>\n",
       "<table frame=\"box\" rules=\"cols\">\n",
       "    <tr>\n",
       "        <th style=\"padding-left: 1em; padding-right: 1em; text-align: center\">sqft_lot15</th>\n",
       "    </tr>\n",
       "    <tr>\n",
       "        <td style=\"padding-left: 1em; padding-right: 1em; text-align: center; vertical-align: top\">5650.0</td>\n",
       "    </tr>\n",
       "    <tr>\n",
       "        <td style=\"padding-left: 1em; padding-right: 1em; text-align: center; vertical-align: top\">7639.0</td>\n",
       "    </tr>\n",
       "</table>\n",
       "[2 rows x 21 columns]<br/>\n",
       "</div>"
      ],
      "text/plain": [
       "Columns:\n",
       "\tid\tstr\n",
       "\tdate\tstr\n",
       "\tprice\tfloat\n",
       "\tbedrooms\tfloat\n",
       "\tbathrooms\tfloat\n",
       "\tsqft_living\tfloat\n",
       "\tsqft_lot\tint\n",
       "\tfloors\tstr\n",
       "\twaterfront\tint\n",
       "\tview\tint\n",
       "\tcondition\tint\n",
       "\tgrade\tint\n",
       "\tsqft_above\tint\n",
       "\tsqft_basement\tint\n",
       "\tyr_built\tint\n",
       "\tyr_renovated\tint\n",
       "\tzipcode\tstr\n",
       "\tlat\tfloat\n",
       "\tlong\tfloat\n",
       "\tsqft_living15\tfloat\n",
       "\tsqft_lot15\tfloat\n",
       "\n",
       "Rows: 2\n",
       "\n",
       "Data:\n",
       "+------------+-----------------+----------+----------+-----------+-------------+\n",
       "|     id     |       date      |  price   | bedrooms | bathrooms | sqft_living |\n",
       "+------------+-----------------+----------+----------+-----------+-------------+\n",
       "| 7129300520 | 20141013T000000 | 221900.0 |   3.0    |    1.0    |    1180.0   |\n",
       "| 6414100192 | 20141209T000000 | 538000.0 |   3.0    |    2.25   |    2570.0   |\n",
       "+------------+-----------------+----------+----------+-----------+-------------+\n",
       "+----------+--------+------------+------+-----------+-------+------------+---------------+\n",
       "| sqft_lot | floors | waterfront | view | condition | grade | sqft_above | sqft_basement |\n",
       "+----------+--------+------------+------+-----------+-------+------------+---------------+\n",
       "|   5650   |   1    |     0      |  0   |     3     |   7   |    1180    |       0       |\n",
       "|   7242   |   2    |     0      |  0   |     3     |   7   |    2170    |      400      |\n",
       "+----------+--------+------------+------+-----------+-------+------------+---------------+\n",
       "+----------+--------------+---------+---------+----------+---------------+-----+\n",
       "| yr_built | yr_renovated | zipcode |   lat   |   long   | sqft_living15 | ... |\n",
       "+----------+--------------+---------+---------+----------+---------------+-----+\n",
       "|   1955   |      0       |  98178  | 47.5112 | -122.257 |     1340.0    | ... |\n",
       "|   1951   |     1991     |  98125  |  47.721 | -122.319 |     1690.0    | ... |\n",
       "+----------+--------------+---------+---------+----------+---------------+-----+\n",
       "[2 rows x 21 columns]"
      ]
     },
     "execution_count": 12,
     "metadata": {},
     "output_type": "execute_result"
    }
   ],
   "source": [
    "sales_sf.head(2)"
   ]
  },
  {
   "cell_type": "code",
   "execution_count": 58,
   "metadata": {
    "collapsed": false
   },
   "outputs": [
    {
     "name": "stdout",
     "output_type": "stream",
     "text": [
      "+-------------+----------+\n",
      "| sqft_living |  price   |\n",
      "+-------------+----------+\n",
      "|    290.0    | 142000.0 |\n",
      "|    370.0    | 276000.0 |\n",
      "|    380.0    | 245000.0 |\n",
      "|    384.0    | 265000.0 |\n",
      "|    390.0    | 228000.0 |\n",
      "+-------------+----------+\n",
      "[5 rows x 2 columns]\n",
      "\n"
     ]
    }
   ],
   "source": [
    "sales_sf = sales_sf.sort(['sqft_living', 'price'])\n",
    "sales_pd = sales_sf.sort(['sqft_living', 'price'])\n",
    "\n",
    "print sales_pd.head(5)['sqft_living', 'price']"
   ]
  },
  {
   "cell_type": "markdown",
   "metadata": {},
   "source": [
    "**4.** Make a 1 degree polynomial SFrame with sales[‘sqft_living’] as the the feature. Call it ‘poly1_data’.\n",
    "\n",
    "**5.** Add sales[‘price’] to poly1_data as this will be our output variable. e.g. if you’re using SFrames\n",
    "\n",
    "Let's start with a degree 1 polynomial using 'sqft_living' (i.e. a line) to predict 'price' and plot what it looks like. "
   ]
  },
  {
   "cell_type": "code",
   "execution_count": 60,
   "metadata": {
    "collapsed": false
   },
   "outputs": [
    {
     "name": "stdout",
     "output_type": "stream",
     "text": [
      "features as sf sarray\n",
      "['power_1']\n",
      "features as pd series\n",
      "0    power_1\n",
      "dtype: object\n",
      "features as pd.columns, don't worry about unicode chars!!\n",
      "Index([u'power_1'], dtype='object')\n",
      "   power_1     price\n",
      "0    290.0  142000.0\n"
     ]
    }
   ],
   "source": [
    "poly1_data = polynomial_dframe(sales_sf['sqft_living'], 1)\n",
    "\n",
    "# extract list of features or column names\n",
    "poly1_data_sf = polynomial_sframe(sales_sf['sqft_living'], 1)\n",
    "features = poly1_data_sf.column_names() \n",
    "print \"features as sf sarray\\n\", features\n",
    "\n",
    "my_features = pd.Series(features)\n",
    "print \"features as pd series\\n\", my_features\n",
    "\n",
    "features = poly1_data.columns\n",
    "print \"features as pd.columns, don't worry about unicode chars!!\\n\", features\n",
    "\n",
    "poly1_data['price'] = sales_pd['price'] # adds extra column for price to the data since it's the target\n",
    "print poly1_data.head(1)"
   ]
  },
  {
   "cell_type": "markdown",
   "metadata": {},
   "source": [
    "**6.** Use graphlab.linear_regression.create (or another linear regression library) to compute the regression weights for predicting sales[‘price’] based on the 1 degree polynomial feature ‘sqft_living’. The result should be an intercept and slope. e.g if you’re using graphlab create:\n",
    "\n",
    "\n",
    "NOTE: for all the models in this notebook use validation_set = None to ensure that all results are consistent across users. This way you will get the same answer every time you run the code."
   ]
  },
  {
   "cell_type": "code",
   "execution_count": 61,
   "metadata": {
    "collapsed": false
   },
   "outputs": [
    {
     "name": "stdout",
     "output_type": "stream",
     "text": [
      "   power_1     price\n",
      "0    290.0  142000.0\n",
      "1    370.0  276000.0\n",
      "(21613, 2)\n"
     ]
    },
    {
     "data": {
      "text/plain": [
       "Index([u'power_1', u'price'], dtype='object')"
      ]
     },
     "execution_count": 61,
     "metadata": {},
     "output_type": "execute_result"
    }
   ],
   "source": [
    "# We wont use graphlab but scikit_learn regression modelling capabilities\n",
    "# First we have to convert sframes to a pandas dframe, cause scikit uses pandas dataframes\n",
    "# poly1_df = poly1_data.to_dataframe()  -- we already have a pandas dataframe\n",
    "\n",
    "poly1_df = poly1_data\n",
    "print poly1_df.head(2)\n",
    "print poly1_df.shape    #shows (21613, 2)  so 21613 rows and 2 columns power_1 and price\n",
    "poly1_df.columns        #we can train model using only columns as features, but not price!\n"
   ]
  },
  {
   "cell_type": "code",
   "execution_count": 62,
   "metadata": {
    "collapsed": false,
    "scrolled": true
   },
   "outputs": [
    {
     "name": "stdout",
     "output_type": "stream",
     "text": [
      "Response sales price = \n",
      "0    142000.0\n",
      "1    276000.0\n",
      "2    245000.0\n",
      "3    265000.0\n",
      "4    228000.0\n",
      "Name: price, dtype: float64\n",
      "\n",
      "type(y) <class 'pandas.core.series.Series'>\n",
      "y.shape (21613,)\n",
      "Predictors or features = sqft_living =\n",
      "   power_1\n",
      "0    290.0\n",
      "1    370.0\n",
      "2    380.0\n",
      "3    384.0\n",
      "4    390.0\n"
     ]
    }
   ],
   "source": [
    "# select a Series from the DataFrame to be the output/target or response column\n",
    "y = poly1_df['price']\n",
    "\n",
    "# equivalent command that works if there are no spaces in the column name\n",
    "y = poly1_df.price\n",
    "\n",
    "# print the first 5 values\n",
    "print \"Response sales price = \\n\", y.head()\n",
    "\n",
    "# check the type and shape of y\n",
    "print \"\\ntype(y)\", type(y)\n",
    "print \"y.shape\", y.shape\n",
    "\n",
    "# features = ['power_1']\n",
    "# recall this is same as features = poly1_data_sf.column_names() \n",
    "X = poly1_df[features]\n",
    "\n",
    "# print the first 5 values\n",
    "print \"Predictors or features = sqft_living =\\n\", X.head()"
   ]
  },
  {
   "cell_type": "code",
   "execution_count": 53,
   "metadata": {
    "collapsed": false,
    "scrolled": true
   },
   "outputs": [],
   "source": [
    "# we can also use sklearn to do random data splits\n",
    "# from sklearn.cross_validation import train_test_split\n",
    "# X_train, X_test, y_train, y_test = train_test_split(X, y, random_state=1)"
   ]
  },
  {
   "cell_type": "code",
   "execution_count": 63,
   "metadata": {
    "collapsed": false,
    "scrolled": true
   },
   "outputs": [
    {
     "data": {
      "text/plain": [
       "LinearRegression(copy_X=True, fit_intercept=True, n_jobs=1, normalize=False)"
      ]
     },
     "execution_count": 63,
     "metadata": {},
     "output_type": "execute_result"
    }
   ],
   "source": [
    "# import model\n",
    "from sklearn.linear_model import LinearRegression\n",
    "\n",
    "# instantiate\n",
    "linreg1 = LinearRegression()\n",
    "\n",
    "# fit the model to the training data (to learn the coefficients)\n",
    "# linreg.fit(X_train, y_train)\n",
    "linreg1.fit(X, y)"
   ]
  },
  {
   "cell_type": "code",
   "execution_count": 64,
   "metadata": {
    "collapsed": false,
    "scrolled": true
   },
   "outputs": [
    {
     "name": "stdout",
     "output_type": "stream",
     "text": [
      "-43580.7430945\n",
      "[ 280.6235679]\n"
     ]
    },
    {
     "data": {
      "text/plain": [
       "[('power_1', 280.62356789744865)]"
      ]
     },
     "execution_count": 64,
     "metadata": {},
     "output_type": "execute_result"
    }
   ],
   "source": [
    "# print the intercept and coefficients\n",
    "print linreg1.intercept_     #-43579 from gl linear regression toolkit\n",
    "print linreg1.coef_          #280.6 \n",
    "\n",
    "# pair the feature names with the coefficients\n",
    "zip(features, linreg1.coef_)"
   ]
  },
  {
   "cell_type": "code",
   "execution_count": 65,
   "metadata": {
    "collapsed": false
   },
   "outputs": [
    {
     "name": "stdout",
     "output_type": "stream",
     "text": [
      "261440.790301\n"
     ]
    }
   ],
   "source": [
    "# make predictions using model, pass in the same X into linreg model\n",
    "y_pred1 = linreg1.predict(X)\n",
    "\n",
    "# calculate RMSE using scikit-learn\n",
    "from sklearn import metrics\n",
    "#import numpy as np\n",
    "print np.sqrt(metrics.mean_squared_error(y, y_pred1))  #graphlab gives 261440.790724"
   ]
  },
  {
   "cell_type": "markdown",
   "metadata": {},
   "source": [
    "**7.** Next use the produce a scatter plot of the training data (just square feet vs price) and add the fitted model. e.g. with matplotlib and SFrames:"
   ]
  },
  {
   "cell_type": "code",
   "execution_count": 66,
   "metadata": {
    "collapsed": false
   },
   "outputs": [
    {
     "data": {
      "text/plain": [
       "[<matplotlib.lines.Line2D at 0x7fbf51e58c90>,\n",
       " <matplotlib.lines.Line2D at 0x7fbf51e58e10>]"
      ]
     },
     "execution_count": 66,
     "metadata": {},
     "output_type": "execute_result"
    },
    {
     "data": {
      "image/png": "[encoded data removed]",
      "text/plain": [
       "<matplotlib.figure.Figure at 0x7fbf520e9f10>"
      ]
     },
     "metadata": {},
     "output_type": "display_data"
    }
   ],
   "source": [
    "import matplotlib.pyplot as plt\n",
    "%matplotlib inline\n",
    "\n",
    "plt.plot(poly1_data['power_1'],poly1_data['price'], '.',\n",
    "        poly1_data['power_1'], y_pred1,'-')         \n",
    "# plt.plot(X,y, '.')   #this would do same scatter plot X ox x-axis, y on y-axis/vertical\n",
    "# plot data points as '.'   and regression estimates as '-'. \n",
    "# Using '-' helps also visualize regression line"
   ]
  },
  {
   "cell_type": "markdown",
   "metadata": {},
   "source": [
    "Let's unpack that plt.plot() command. The first pair of SArrays we passed are the 1st power of sqft and the actual price we then ask it to print these as dots '.'. The next pair we pass is the 1st power of sqft and the predicted values from the linear model. We ask these to be plotted as a line '-'. \n",
    "\n",
    "The resulting plot should look like a cloud of points with a straight line passing through.\n",
    "\n",
    "We can see, not surprisingly, that the predicted values all fall on a line, specifically the one with slope 280 and intercept -43579. What if we wanted to plot a second degree polynomial?\n",
    "\n",
    "**8.** Now that you have plotted the results using a 1st degree polynomial, try it again using a 2nd degree and 3rd degree polynomial. Look at the fitted lines, do they appear as you would expect?"
   ]
  },
  {
   "cell_type": "code",
   "execution_count": 67,
   "metadata": {
    "collapsed": false,
    "scrolled": true
   },
   "outputs": [
    {
     "name": "stdout",
     "output_type": "stream",
     "text": [
      "My features are now this list Index([u'power_1', u'power_2'], dtype='object')\n",
      "Giving us this new sframe\n",
      "   power_1   power_2     price\n",
      "0    290.0   84100.0  142000.0\n",
      "1    370.0  136900.0  276000.0\n",
      "\n",
      " new X with extra col for squared of sqft_living\n",
      "   power_1   power_2\n",
      "0    290.0   84100.0\n",
      "1    370.0  136900.0\n",
      "\n",
      " y unchanged - price\n",
      "0    142000.0\n",
      "1    276000.0\n",
      "Name: price, dtype: float64\n"
     ]
    }
   ],
   "source": [
    "poly2_data = polynomial_dframe(sales_pd['sqft_living'], 2)\n",
    "my_features = poly2_data.columns # get the name of the features\n",
    "print \"My features are now this list\", my_features\n",
    "poly2_data['price'] = sales_pd['price'] # add price to the data since it's the target\n",
    "print \"Giving us this new sframe\\n\", poly2_data.head(2)\n",
    "\n",
    "# However if we want to use scikit learn packages, the regression function needs X and y seperately\n",
    "X = poly2_data[my_features]\n",
    "y = poly2_data.price\n",
    "\n",
    "print \"\\n new X with extra col for squared of sqft_living\"\n",
    "print X.head(2)\n",
    "print \"\\n y unchanged - price\"\n",
    "print y.head(2)"
   ]
  },
  {
   "cell_type": "code",
   "execution_count": 68,
   "metadata": {
    "collapsed": false
   },
   "outputs": [
    {
     "name": "stdout",
     "output_type": "stream",
     "text": [
      "199222.279305\n",
      "[  6.79940947e+01   3.85812609e-02]\n"
     ]
    }
   ],
   "source": [
    "# fit the model to the training data (learn the coefficients)\n",
    "# linreg.fit(X_train, y_train)\n",
    "linreg2 = LinearRegression()\n",
    "linreg2.fit(X, y)\n",
    "\n",
    "# print the intercept and coefficients\n",
    "print linreg2.intercept_     #199222.5 from gl linear regression toolkit\n",
    "print linreg2.coef_          #67.99 and 0.038"
   ]
  },
  {
   "cell_type": "code",
   "execution_count": 25,
   "metadata": {
    "collapsed": false
   },
   "outputs": [
    {
     "data": {
      "text/plain": [
       "[('power_1', 67.994094685793726), ('power_2', 0.038581260937201871)]"
      ]
     },
     "execution_count": 25,
     "metadata": {},
     "output_type": "execute_result"
    }
   ],
   "source": [
    "# pair the feature names with the coefficients\n",
    "zip(my_features, linreg2.coef_)"
   ]
  },
  {
   "cell_type": "code",
   "execution_count": 26,
   "metadata": {
    "collapsed": false
   },
   "outputs": [
    {
     "name": "stdout",
     "output_type": "stream",
     "text": [
      "250948.36762\n"
     ]
    }
   ],
   "source": [
    "# make predictions using model\n",
    "y_pred2 = linreg2.predict(X)\n",
    "\n",
    "# calculate RMSE using scikit-learn  - Training-rmse from graphlab = 250948.368758\n",
    "print np.sqrt(metrics.mean_squared_error(y, y_pred2))"
   ]
  },
  {
   "cell_type": "code",
   "execution_count": 70,
   "metadata": {
    "collapsed": false
   },
   "outputs": [
    {
     "data": {
      "text/plain": [
       "[<matplotlib.lines.Line2D at 0x7fbf51d73a10>,\n",
       " <matplotlib.lines.Line2D at 0x7fbf51d73b10>,\n",
       " <matplotlib.lines.Line2D at 0x7fbf51d7f7d0>]"
      ]
     },
     "execution_count": 70,
     "metadata": {},
     "output_type": "execute_result"
    },
    {
     "data": {
      "image/png": "[encoded data removed]",
      "text/plain": [
       "<matplotlib.figure.Figure at 0x7fbf51f598d0>"
      ]
     },
     "metadata": {},
     "output_type": "display_data"
    }
   ],
   "source": [
    "plt.plot(poly1_data['power_1'],poly1_data['price'],'.',\n",
    "        poly1_data['power_1'], y_pred1,'r-', \n",
    "        poly1_data['power_1'], y_pred2,'g-')"
   ]
  },
  {
   "cell_type": "markdown",
   "metadata": {},
   "source": [
    "The resulting model looks like half a parabola - the one plotted as a red line.  The green line is the regression line with the 2nd power of the feature. Lets try to see what the cubic looks like:"
   ]
  },
  {
   "cell_type": "code",
   "execution_count": 71,
   "metadata": {
    "collapsed": false
   },
   "outputs": [
    {
     "name": "stdout",
     "output_type": "stream",
     "text": [
      "My features are now this list Index([u'power_1', u'power_2', u'power_3'], dtype='object')\n",
      "Giving us this new sframe\n",
      "   power_1   power_2     power_3     price\n",
      "0    290.0   84100.0  24389000.0  142000.0\n",
      "1    370.0  136900.0  50653000.0  276000.0\n",
      "\n",
      " new X with extra col for squared of sqft_living\n",
      "   power_1   power_2     power_3\n",
      "0    290.0   84100.0  24389000.0\n",
      "1    370.0  136900.0  50653000.0\n",
      "\n",
      " y unchanged - price\n",
      "0    142000.0\n",
      "1    276000.0\n",
      "Name: price, dtype: float64\n",
      "336819.748221\n",
      "[ -9.01819864e+01   8.70465089e-02  -3.84055260e-06]\n"
     ]
    }
   ],
   "source": [
    "poly3_data = polynomial_dframe(sales_pd['sqft_living'], 3)\n",
    "my_features = poly3_data.columns # get the name of the features\n",
    "print \"My features are now this list\", my_features\n",
    "poly3_data['price'] = sales_pd['price'] # add price to the data since it's the target\n",
    "print \"Giving us this new sframe\\n\", poly3_data.head(2)\n",
    "\n",
    "X = poly3_data[my_features]\n",
    "y = poly3_data.price\n",
    "\n",
    "print \"\\n new X with extra col for squared of sqft_living\"\n",
    "print X.head(2)\n",
    "print \"\\n y unchanged - price\"\n",
    "print y.head(2)\n",
    "\n",
    "# fit the model to the training data (learn the coefficients)\n",
    "# linreg.fit(X_train, y_train)\n",
    "linreg3 = LinearRegression()\n",
    "linreg3.fit(X, y)\n",
    "\n",
    "# print the intercept and coefficients\n",
    "print linreg3.intercept_     #199222.5 from gl linear regression toolkit\n",
    "print linreg3.coef_          #67.99 and 0.038"
   ]
  },
  {
   "cell_type": "code",
   "execution_count": 72,
   "metadata": {
    "collapsed": false
   },
   "outputs": [
    {
     "data": {
      "text/plain": [
       "'  As given by graphlab\\n(intercept) \\t336788.117952\\npower_1 \\t\\t-90.1476236119\\npower_2 \\t \\t0.087036715081\\npower_3 \\t \\t-3.8398521196e-06\\n'"
      ]
     },
     "execution_count": 72,
     "metadata": {},
     "output_type": "execute_result"
    }
   ],
   "source": [
    "# pair the feature names with the coefficients\n",
    "zip(my_features, linreg3.coef_)\n",
    "\n",
    "'''  As given by graphlab\n",
    "(intercept) \t336788.117952\n",
    "power_1 \t\t-90.1476236119\n",
    "power_2 \t \t0.087036715081\n",
    "power_3 \t \t-3.8398521196e-06\n",
    "'''"
   ]
  },
  {
   "cell_type": "code",
   "execution_count": 73,
   "metadata": {
    "collapsed": false
   },
   "outputs": [
    {
     "name": "stdout",
     "output_type": "stream",
     "text": [
      "249261.284986\n"
     ]
    }
   ],
   "source": [
    "# make predictions using model\n",
    "y_pred3 = linreg3.predict(X)\n",
    "\n",
    "# calculate RMSE using scikit-learn  - Training-rmse from graphlab =  249261.28\n",
    "print np.sqrt(metrics.mean_squared_error(y, y_pred3))"
   ]
  },
  {
   "cell_type": "code",
   "execution_count": 76,
   "metadata": {
    "collapsed": false
   },
   "outputs": [
    {
     "data": {
      "text/plain": [
       "[<matplotlib.lines.Line2D at 0x7fbf51ae11d0>,\n",
       " <matplotlib.lines.Line2D at 0x7fbf51ae1910>,\n",
       " <matplotlib.lines.Line2D at 0x7fbf51ae1fd0>,\n",
       " <matplotlib.lines.Line2D at 0x7fbf51aed650>]"
      ]
     },
     "execution_count": 76,
     "metadata": {},
     "output_type": "execute_result"
    },
    {
     "data": {
      "image/png": "[encoded data removed]",
      "text/plain": [
       "<matplotlib.figure.Figure at 0x7fbf51c6ebd0>"
      ]
     },
     "metadata": {},
     "output_type": "display_data"
    }
   ],
   "source": [
    "plt.plot(poly3_data['power_1'],poly3_data['price'],'.',\n",
    "        poly1_data['power_1'], y_pred1,'r-', \n",
    "        poly2_data['power_1'], y_pred2,'g-',\n",
    "        poly3_data['power_1'], y_pred3,'y-',)"
   ]
  },
  {
   "cell_type": "markdown",
   "metadata": {},
   "source": [
    "**9.** Now try a 15th degree polynomial. Print out the coefficients and look at the resulted fitted line. Do you think this degree is appropriate for these data? If we were to use a different subset of the data do you think we would get pretty much the same curve?"
   ]
  },
  {
   "cell_type": "code",
   "execution_count": 81,
   "metadata": {
    "collapsed": false
   },
   "outputs": [
    {
     "name": "stdout",
     "output_type": "stream",
     "text": [
      "\n",
      " new X with extra col for squared of sqft_living\n",
      "   power_1  power_2     power_3       power_4       power_5       power_6  \\\n",
      "0    290.0  84100.0  24389000.0  7.072810e+09  2.051115e+12  5.948233e+14   \n",
      "\n",
      "        power_7       power_8       power_9      power_10      power_11  \\\n",
      "0  1.724988e+17  5.002464e+19  1.450715e+22  4.207072e+24  1.220051e+27   \n",
      "\n",
      "       power_12      power_13      power_14      power_15  \n",
      "0  3.538148e+29  1.026063e+32  2.975582e+34  8.629189e+36  \n",
      "\n",
      " y unchanged - price\n",
      "0    142000.0\n",
      "Name: price, dtype: float64\n",
      "537116.329638\n",
      "[  4.56404164e-91   6.91713460e-51  -5.84668089e-56   2.78197775e-88\n",
      "   1.19863929e-74   2.68575522e-71   2.26147568e-67   1.85900299e-63\n",
      "   1.47144116e-59   1.09771012e-55   7.43509038e-52   4.23015578e-48\n",
      "   1.61618577e-44  -2.49283826e-48   9.59718336e-53]\n"
     ]
    }
   ],
   "source": [
    "poly15_data = polynomial_dframe(sales_pd['sqft_living'], 15)\n",
    "my_features = poly15_data.columns # get the name of the features\n",
    "#print \"My features are now this list\", my_features\n",
    "poly15_data['price'] = sales_pd['price'] # add price to the data since it's the target\n",
    "#print \"Giving us this new sframe\\n\", poly15_data.head(2)\n",
    "\n",
    "X = poly15_data[my_features]\n",
    "y = poly15_data.price\n",
    "\n",
    "print \"\\n new X with extra col for squared of sqft_living\"\n",
    "print X.head(1)\n",
    "print \"\\n y unchanged - price\"\n",
    "print y.head(1)\n",
    "\n",
    "# fit the model to the training data (learn the coefficients)\n",
    "# linreg.fit(X_train, y_train)\n",
    "linreg15 = LinearRegression()\n",
    "linreg15.fit(X, y)\n",
    "\n",
    "# print the intercept and coefficients\n",
    "print linreg15.intercept_     #199222.5 from gl linear regression toolkit\n",
    "print linreg15.coef_          #67.99 and 0.038"
   ]
  },
  {
   "cell_type": "code",
   "execution_count": 82,
   "metadata": {
    "collapsed": false
   },
   "outputs": [
    {
     "data": {
      "text/plain": [
       "[('power_1', 4.5640416449249861e-91),\n",
       " ('power_2', 6.9171345995561045e-51),\n",
       " ('power_3', -5.8466808901836489e-56),\n",
       " ('power_4', 2.7819777465757932e-88),\n",
       " ('power_5', 1.1986392947067809e-74),\n",
       " ('power_6', 2.6857552188992653e-71),\n",
       " ('power_7', 2.2614756826799232e-67),\n",
       " ('power_8', 1.8590029915832008e-63),\n",
       " ('power_9', 1.4714411550209987e-59),\n",
       " ('power_10', 1.0977101176268781e-55),\n",
       " ('power_11', 7.4350903821674144e-52),\n",
       " ('power_12', 4.2301557751215826e-48),\n",
       " ('power_13', 1.6161857728331358e-44),\n",
       " ('power_14', -2.4928382597799456e-48),\n",
       " ('power_15', 9.5971833609603959e-53)]"
      ]
     },
     "execution_count": 82,
     "metadata": {},
     "output_type": "execute_result"
    }
   ],
   "source": [
    "# pair the feature names with the coefficients\n",
    "zip(my_features, linreg15.coef_)"
   ]
  },
  {
   "cell_type": "code",
   "execution_count": 84,
   "metadata": {
    "collapsed": false
   },
   "outputs": [
    {
     "name": "stdout",
     "output_type": "stream",
     "text": [
      "350041.277869\n"
     ]
    }
   ],
   "source": [
    "# make predictions using model\n",
    "y_pred15 = linreg15.predict(X)\n",
    "\n",
    "# calculate RMSE using scikit-learn  - Training-rmse from graphlab = 245690.511190\n",
    "print np.sqrt(metrics.mean_squared_error(y, y_pred15))"
   ]
  },
  {
   "cell_type": "code",
   "execution_count": 86,
   "metadata": {
    "collapsed": false
   },
   "outputs": [
    {
     "data": {
      "text/plain": [
       "[<matplotlib.lines.Line2D at 0x7fbf5197c4d0>,\n",
       " <matplotlib.lines.Line2D at 0x7fbf5197cc50>]"
      ]
     },
     "execution_count": 86,
     "metadata": {},
     "output_type": "execute_result"
    },
    {
     "data": {
      "image/png": "[encoded data removed]",
      "text/plain": [
       "<matplotlib.figure.Figure at 0x7fbf51abf690>"
      ]
     },
     "metadata": {},
     "output_type": "display_data"
    }
   ],
   "source": [
    "plt.plot(poly15_data['power_1'],poly15_data['price'],'.',\n",
    "        #poly1_data['power_1'], y_pred1,'g-',\n",
    "        poly15_data['power_1'], y_pred15,'r-')"
   ]
  },
  {
   "cell_type": "markdown",
   "metadata": {},
   "source": [
    "* What do you think of the 15th degree polynomial?\n",
    "Fits the data too hard - overfitting.\n",
    "\n",
    "* Do you think this is appropriate? \n",
    "No, its not, even though this gives the lowest Training-rmse.\n",
    "\n",
    "* If we were to change the data do you think you'd get pretty much the same curve? \n",
    "No, if we change the data, the curve will change, i.e model will change a lot - thus high variance between models by just changing a few data points. NOte bias will be low because generally a complex model, like a 15th order polynomial will overfit data, i.e RSS will be low."
   ]
  },
  {
   "cell_type": "markdown",
   "metadata": {},
   "source": [
    "# Changing the data and re-learning"
   ]
  },
  {
   "cell_type": "markdown",
   "metadata": {},
   "source": [
    "**10.** We're going to split the sales data into four subsets of roughly equal size. Then you will estimate a 15th degree polynomial model on all four subsets of the data. Print the coefficients (you should use .print_rows(num_rows = 16) to view all of them) and plot the resulting fit (as we did above). The quiz will ask you some questions about these results.\n",
    "\n",
    "To split the sales data into four subsets, we perform the following steps:\n",
    "* First split sales into 2 subsets with `.random_split(0.5, seed=0)`. \n",
    "* Next split the resulting subsets into 2 more subsets each. Use `.random_split(0.5, seed=0)`.\n",
    "* You should have 4 subsets of (approximately) equal size, call them set_1, set_2, set_3, and set_4\n",
    "\n",
    "We set `seed=0` in these steps so that different users get consistent results.\n",
    "You should end up with 4 subsets (`set_1`, `set_2`, `set_3`, `set_4`) of approximately equal size. If you’re not using SFrames then please download the provided csv files for each subset."
   ]
  },
  {
   "cell_type": "code",
   "execution_count": 87,
   "metadata": {
    "collapsed": false
   },
   "outputs": [
    {
     "data": {
      "text/html": [
       "<div>\n",
       "<table border=\"1\" class=\"dataframe\">\n",
       "  <thead>\n",
       "    <tr style=\"text-align: right;\">\n",
       "      <th></th>\n",
       "      <th>id</th>\n",
       "      <th>date</th>\n",
       "      <th>price</th>\n",
       "      <th>bedrooms</th>\n",
       "      <th>bathrooms</th>\n",
       "      <th>sqft_living</th>\n",
       "      <th>sqft_lot</th>\n",
       "      <th>floors</th>\n",
       "      <th>waterfront</th>\n",
       "      <th>view</th>\n",
       "      <th>...</th>\n",
       "      <th>grade</th>\n",
       "      <th>sqft_above</th>\n",
       "      <th>sqft_basement</th>\n",
       "      <th>yr_built</th>\n",
       "      <th>yr_renovated</th>\n",
       "      <th>zipcode</th>\n",
       "      <th>lat</th>\n",
       "      <th>long</th>\n",
       "      <th>sqft_living15</th>\n",
       "      <th>sqft_lot15</th>\n",
       "    </tr>\n",
       "  </thead>\n",
       "  <tbody>\n",
       "    <tr>\n",
       "      <th>0</th>\n",
       "      <td>8658300340</td>\n",
       "      <td>20140523T000000</td>\n",
       "      <td>80000.0</td>\n",
       "      <td>1.0</td>\n",
       "      <td>0.75</td>\n",
       "      <td>430.0</td>\n",
       "      <td>5050</td>\n",
       "      <td>1</td>\n",
       "      <td>0</td>\n",
       "      <td>0</td>\n",
       "      <td>...</td>\n",
       "      <td>4</td>\n",
       "      <td>430</td>\n",
       "      <td>0</td>\n",
       "      <td>1912</td>\n",
       "      <td>0</td>\n",
       "      <td>98014</td>\n",
       "      <td>47.6499</td>\n",
       "      <td>-121.909</td>\n",
       "      <td>1200.0</td>\n",
       "      <td>7500.0</td>\n",
       "    </tr>\n",
       "    <tr>\n",
       "      <th>1</th>\n",
       "      <td>1352300580</td>\n",
       "      <td>20141114T000000</td>\n",
       "      <td>247000.0</td>\n",
       "      <td>1.0</td>\n",
       "      <td>1.00</td>\n",
       "      <td>460.0</td>\n",
       "      <td>4120</td>\n",
       "      <td>1</td>\n",
       "      <td>0</td>\n",
       "      <td>0</td>\n",
       "      <td>...</td>\n",
       "      <td>4</td>\n",
       "      <td>460</td>\n",
       "      <td>0</td>\n",
       "      <td>1937</td>\n",
       "      <td>0</td>\n",
       "      <td>98055</td>\n",
       "      <td>47.4868</td>\n",
       "      <td>-122.199</td>\n",
       "      <td>990.0</td>\n",
       "      <td>4120.0</td>\n",
       "    </tr>\n",
       "  </tbody>\n",
       "</table>\n",
       "<p>2 rows × 21 columns</p>\n",
       "</div>"
      ],
      "text/plain": [
       "           id             date     price  bedrooms  bathrooms  sqft_living  \\\n",
       "0  8658300340  20140523T000000   80000.0       1.0       0.75        430.0   \n",
       "1  1352300580  20141114T000000  247000.0       1.0       1.00        460.0   \n",
       "\n",
       "   sqft_lot floors  waterfront  view     ...      grade  sqft_above  \\\n",
       "0      5050      1           0     0     ...          4         430   \n",
       "1      4120      1           0     0     ...          4         460   \n",
       "\n",
       "   sqft_basement  yr_built  yr_renovated  zipcode      lat     long  \\\n",
       "0              0      1912             0    98014  47.6499 -121.909   \n",
       "1              0      1937             0    98055  47.4868 -122.199   \n",
       "\n",
       "   sqft_living15  sqft_lot15  \n",
       "0         1200.0      7500.0  \n",
       "1          990.0      4120.0  \n",
       "\n",
       "[2 rows x 21 columns]"
      ]
     },
     "execution_count": 87,
     "metadata": {},
     "output_type": "execute_result"
    }
   ],
   "source": [
    "set_1 = pd.read_csv('../Week3/wk3_kc_house_set_1_data.csv', dtype=dtype_dict)\n",
    "set_2 = pd.read_csv('../Week3/wk3_kc_house_set_2_data.csv', dtype=dtype_dict)\n",
    "set_3 = pd.read_csv('../Week3/wk3_kc_house_set_3_data.csv', dtype=dtype_dict)\n",
    "set_4 = pd.read_csv('../Week3/wk3_kc_house_set_4_data.csv', dtype=dtype_dict)\n",
    "set_1.head(2)"
   ]
  },
  {
   "cell_type": "markdown",
   "metadata": {},
   "source": [
    "**11.** Estimate a 15th degree polynomial on all 4 sets, plot the results and view the coefficients for all four models.\n",
    "Fit a 15th degree polynomial on set_1, set_2, set_3, and set_4 using sqft_living to predict prices. Print the coefficients and make a plot of the resulting model."
   ]
  },
  {
   "cell_type": "code",
   "execution_count": 88,
   "metadata": {
    "collapsed": false
   },
   "outputs": [
    {
     "data": {
      "text/plain": [
       "[('power_1', 3.0579416791412512e-90),\n",
       " ('power_2', -1.6939494704143972e-49),\n",
       " ('power_3', -5.6176756842585691e-55),\n",
       " ('power_4', -4.9784122222889134e-60),\n",
       " ('power_5', 3.2308273614221704e-74),\n",
       " ('power_6', 1.1035833348665433e-70),\n",
       " ('power_7', 8.3772402886563895e-67),\n",
       " ('power_8', 6.2341195675377084e-63),\n",
       " ('power_9', 4.4915644242889343e-59),\n",
       " ('power_10', 3.0693876256690256e-55),\n",
       " ('power_11', 1.9174930010346414e-51),\n",
       " ('power_12', 1.0133517968523396e-47),\n",
       " ('power_13', 3.62176959054974e-44),\n",
       " ('power_14', -5.6350166080191139e-48),\n",
       " ('power_15', 2.1864111641754747e-52)]"
      ]
     },
     "execution_count": 88,
     "metadata": {},
     "output_type": "execute_result"
    }
   ],
   "source": [
    "poly_set1_data = polynomial_dframe(set_1['sqft_living'], 15)\n",
    "features1 = poly_set1_data.columns\n",
    "model_poly_set1= LinearRegression()\n",
    "model_poly_set1.fit(poly_set1_data[features1], set_1['price'])\n",
    "zip(features1, model_poly_set1.coef_)"
   ]
  },
  {
   "cell_type": "code",
   "execution_count": 89,
   "metadata": {
    "collapsed": false
   },
   "outputs": [
    {
     "data": {
      "text/plain": [
       "[('power_1', 2.7133594856639315e-77),\n",
       " ('power_2', 7.3354109038087181e-39),\n",
       " ('power_3', -1.8501481426983013e-44),\n",
       " ('power_4', 8.4462822230702599e-50),\n",
       " ('power_5', 5.7378617937677388e-71),\n",
       " ('power_6', 1.5193498713147913e-58),\n",
       " ('power_7', 3.6454961582664592e-55),\n",
       " ('power_8', 1.5041625757857547e-51),\n",
       " ('power_9', 5.7601566490117954e-48),\n",
       " ('power_10', 1.9577049735292163e-44),\n",
       " ('power_11', 5.3939653864372628e-41),\n",
       " ('power_12', 9.4037636037428543e-38),\n",
       " ('power_13', -3.6352914142105999e-41),\n",
       " ('power_14', 4.6547652381259511e-45),\n",
       " ('power_15', -1.9719912093194184e-49)]"
      ]
     },
     "execution_count": 89,
     "metadata": {},
     "output_type": "execute_result"
    }
   ],
   "source": [
    "poly_set2_data = polynomial_dframe(set_2['sqft_living'], 15)\n",
    "features2 = poly_set2_data.columns\n",
    "model_poly_set2= LinearRegression()\n",
    "model_poly_set2.fit(poly_set2_data, set_2['price'])\n",
    "zip(features2, model_poly_set2.coef_)"
   ]
  },
  {
   "cell_type": "code",
   "execution_count": 90,
   "metadata": {
    "collapsed": false
   },
   "outputs": [
    {
     "data": {
      "text/plain": [
       "[('power_1', 2.8375193407185001e-88),\n",
       " ('power_2', -7.8022412831006037e-49),\n",
       " ('power_3', -1.3877084872480603e-55),\n",
       " ('power_4', -3.9827297778311307e-59),\n",
       " ('power_5', 1.5717016931002878e-72),\n",
       " ('power_6', 4.2789490761503488e-69),\n",
       " ('power_7', 2.680096260178185e-65),\n",
       " ('power_8', 1.6391136244795617e-61),\n",
       " ('power_9', 9.6643501496531161e-58),\n",
       " ('power_10', 5.3804465321667395e-54),\n",
       " ('power_11', 2.7256363612655613e-50),\n",
       " ('power_12', 1.1625324793673208e-46),\n",
       " ('power_13', 3.3375614134746299e-43),\n",
       " ('power_14', -6.7623881791320137e-47),\n",
       " ('power_15', 3.4313293205311174e-51)]"
      ]
     },
     "execution_count": 90,
     "metadata": {},
     "output_type": "execute_result"
    }
   ],
   "source": [
    "poly_set3_data = polynomial_dframe(set_3['sqft_living'], 15)\n",
    "features3 = poly_set3_data.columns\n",
    "model_poly_set3= LinearRegression()\n",
    "model_poly_set3.fit(poly_set3_data, set_3['price'])\n",
    "zip(features3, model_poly_set3.coef_)"
   ]
  },
  {
   "cell_type": "code",
   "execution_count": 91,
   "metadata": {
    "collapsed": false,
    "scrolled": true
   },
   "outputs": [
    {
     "data": {
      "text/plain": [
       "[('power_1', 1.3711604987173929e-76),\n",
       " ('power_2', 2.7967822083709408e-40),\n",
       " ('power_3', -2.1306386258227746e-44),\n",
       " ('power_4', -2.1991071328637065e-49),\n",
       " ('power_5', 2.5842033695353443e-70),\n",
       " ('power_6', 5.2900249811749666e-58),\n",
       " ('power_7', 1.2707004611832174e-54),\n",
       " ('power_8', 4.878689722055742e-51),\n",
       " ('power_9', 1.7354902153004641e-47),\n",
       " ('power_10', 5.4705832008903687e-44),\n",
       " ('power_11', 1.3958759921218604e-40),\n",
       " ('power_12', 2.2504187100351063e-37),\n",
       " ('power_13', -9.4395411888380012e-41),\n",
       " ('power_14', 1.315730601662384e-44),\n",
       " ('power_15', -6.0916342992908582e-49)]"
      ]
     },
     "execution_count": 91,
     "metadata": {},
     "output_type": "execute_result"
    }
   ],
   "source": [
    "poly_set4_data = polynomial_dframe(set_4['sqft_living'], 15)\n",
    "features4 = poly_set4_data.columns\n",
    "model_poly_set4= LinearRegression()\n",
    "model_poly_set4.fit(poly_set4_data, set_4['price'])\n",
    "zip(features4, model_poly_set4.coef_)"
   ]
  },
  {
   "cell_type": "markdown",
   "metadata": {},
   "source": [
    "**Quiz Question: Is the sign (positive or negative) for power_15 the same in all four models?** No\n",
    "\n",
    "signs for each of the models 1 to 4\n",
    "\n",
    "[ 2.1, -1.9, 3.4, -6.1] \n",
    "\n",
    "[ 5.0, 1.6, 6.3, -4.7 ]  from graphlabs "
   ]
  },
  {
   "cell_type": "code",
   "execution_count": 41,
   "metadata": {
    "collapsed": false
   },
   "outputs": [],
   "source": [
    "#zip(features1, model_poly_set1.coef_)\n",
    "#zip(features2, model_poly_set2.coef_)\n",
    "#zip(features3, model_poly_set3.coef_)\n",
    "#zip(features4, model_poly_set4.coef_)\n",
    "#model_split4.coefficients.print_rows(num_rows=16, num_columns=3)"
   ]
  },
  {
   "cell_type": "markdown",
   "metadata": {},
   "source": [
    "**Quiz Question: (True/False) the plotted fitted lines look the same in all four plots**\n",
    "No"
   ]
  },
  {
   "cell_type": "code",
   "execution_count": 93,
   "metadata": {
    "collapsed": false
   },
   "outputs": [
    {
     "data": {
      "text/plain": [
       "[<matplotlib.lines.Line2D at 0x7fbf517cdcd0>,\n",
       " <matplotlib.lines.Line2D at 0x7fbf517cddd0>]"
      ]
     },
     "execution_count": 93,
     "metadata": {},
     "output_type": "execute_result"
    },
    {
     "data": {
      "image/png": "[encoded data removed]",
      "text/plain": [
       "<matplotlib.figure.Figure at 0x7fbf51992ad0>"
      ]
     },
     "metadata": {},
     "output_type": "display_data"
    }
   ],
   "source": [
    "plt.plot(poly_set1_data['power_1'],set_1['price'],'.',\n",
    "        poly_set1_data['power_1'], model_poly_set1.predict(poly_set1_data[features1]),'-')"
   ]
  },
  {
   "cell_type": "code",
   "execution_count": 94,
   "metadata": {
    "collapsed": false
   },
   "outputs": [
    {
     "data": {
      "text/plain": [
       "[<matplotlib.lines.Line2D at 0x7fbf51712e50>,\n",
       " <matplotlib.lines.Line2D at 0x7fbf51712ed0>]"
      ]
     },
     "execution_count": 94,
     "metadata": {},
     "output_type": "execute_result"
    },
    {
     "data": {
      "image/png": "[encoded data removed]",
      "text/plain": [
       "<matplotlib.figure.Figure at 0x7fbf52665d90>"
      ]
     },
     "metadata": {},
     "output_type": "display_data"
    }
   ],
   "source": [
    "plt.plot(poly_set2_data['power_1'],set_2['price'],'.',\n",
    "        poly_set2_data['power_1'], model_poly_set2.predict(poly_set2_data[features2]),'-')"
   ]
  },
  {
   "cell_type": "code",
   "execution_count": 95,
   "metadata": {
    "collapsed": false
   },
   "outputs": [
    {
     "data": {
      "text/plain": [
       "[<matplotlib.lines.Line2D at 0x7fbf516522d0>,\n",
       " <matplotlib.lines.Line2D at 0x7fbf51652950>]"
      ]
     },
     "execution_count": 95,
     "metadata": {},
     "output_type": "execute_result"
    },
    {
     "data": {
      "image/png": "[encoded data removed]",
      "text/plain": [
       "<matplotlib.figure.Figure at 0x7fbf5182b2d0>"
      ]
     },
     "metadata": {},
     "output_type": "display_data"
    }
   ],
   "source": [
    "plt.plot(poly_set3_data['power_1'],set_3['price'],'.',\n",
    "        poly_set3_data['power_1'], model_poly_set3.predict(poly_set3_data[features3]),'-')"
   ]
  },
  {
   "cell_type": "code",
   "execution_count": 96,
   "metadata": {
    "collapsed": false
   },
   "outputs": [
    {
     "data": {
      "text/plain": [
       "[<matplotlib.lines.Line2D at 0x7fbf5158cbd0>,\n",
       " <matplotlib.lines.Line2D at 0x7fbf5158cc50>]"
      ]
     },
     "execution_count": 96,
     "metadata": {},
     "output_type": "execute_result"
    },
    {
     "data": {
      "image/png": "[encoded data removed]",
      "text/plain": [
       "<matplotlib.figure.Figure at 0x7fbf51992c90>"
      ]
     },
     "metadata": {},
     "output_type": "display_data"
    }
   ],
   "source": [
    "plt.plot(poly_set4_data['power_1'],set_4['price'],'.',\n",
    "        poly_set4_data['power_1'], model_poly_set4.predict(poly_set4_data[features4]),'-')"
   ]
  },
  {
   "cell_type": "markdown",
   "metadata": {},
   "source": [
    "The polynomial fit of degree 15 changed wildly whenever the data changed. In particular, when we split the sales data into four subsets and fit the model of degree 15, the result came out to be very different for each subset. **The model has *high variance***. We will see in next weeks lectures that ridge regression reduces such variance although with a tolerable increase in bias. We can say that a degree 15 polynomial model is complex model, increased complexity leads to more flexible model, i.e model that fits the data exceedingly well ie. overfit so bias is very low but as we saw from the plots of the 4 different degree 15 polynomial model fit to the data, the models that are defined by the weights or coefficients of the 15 features vary wildely thus displays high variance.\n",
    "\n",
    "\n",
    "# Selecting a Polynomial Degree using Cross Validation"
   ]
  },
  {
   "cell_type": "markdown",
   "metadata": {},
   "source": [
    "**14.** Since the “best” polynomial degree is unknown to us we will use cross validation to select the best degree. \n",
    "\n",
    "Whenever we have a \"magic\" parameter like the degree of the polynomial, there is one well-known way to select these parameters: validation set. (We will explore another approach in week 4).\n",
    "\n",
    "We split the sales dataset 3-way into training set, test set, and validation set as follows:\n",
    "\n",
    "* Split our sales data into 2 sets: `training_and_validation` and `testing`. Use `random_split(0.9, seed=1)`.\n",
    "* Further split our training data into two sets: `training` and `validation`. Use `random_split(0.5, seed=1)`.\n",
    "\n",
    "Again, we set `seed=1` to obtain consistent results for different users. If you’re not using SFrames then please download the provided csv files for training, validation and test data."
   ]
  },
  {
   "cell_type": "code",
   "execution_count": 97,
   "metadata": {
    "collapsed": true
   },
   "outputs": [],
   "source": [
    "# 90% train/validate, testing 10% of data\n",
    "#(training_and_validation,testing) = sales.random_split(0.9, seed=1)  \n",
    "\n",
    "# further split train_validate into 50% train, 50% validation sets\n",
    "#(training,validation) = training_and_validation.random_split(0.5, seed=1) \n",
    "\n",
    "training =   pd.read_csv('../Week3/wk3_kc_house_train_data.csv', dtype=dtype_dict)\n",
    "validation = pd.read_csv('../Week3/wk3_kc_house_valid_data.csv', dtype=dtype_dict)\n",
    "testing =    pd.read_csv('../Week3/wk3_kc_house_test_data.csv', dtype=dtype_dict)"
   ]
  },
  {
   "cell_type": "markdown",
   "metadata": {},
   "source": [
    "Next you should write a loop that does the following:\n",
    "* For degree in [1, 2, 3, 4, 5, 6, 7, 8, 9, 10, 11, 12, 13, 14, 15] (to get this in python type range(1, 15+1))\n",
    "    * Build an SFrame of polynomial data of train_data['sqft_living'] at the current degree\n",
    "    * hint: my_features = poly_data.column_names() gives you a list e.g. ['power_1', 'power_2', 'power_3'] which you might find useful for graphlab.linear_regression.create( features = my_features)\n",
    "    * Add train_data['price'] to the polynomial SFrame\n",
    "    * Learn a polynomial regression model to sqft vs price with that degree on TRAIN data\n",
    "    * Compute the RSS on VALIDATION data (here you will want to use .predict()) for that degree and you will need to make a polynmial SFrame using validation data.\n",
    "* Report which degree had the lowest RSS on validation data (remember python indexes from 0)\n",
    "\n",
    "(Note you can turn off the print out of linear_regression.create() with verbose = False)"
   ]
  },
  {
   "cell_type": "code",
   "execution_count": 100,
   "metadata": {
    "collapsed": false
   },
   "outputs": [
    {
     "name": "stdout",
     "output_type": "stream",
     "text": [
      "Degree: 1, RSS: $629097886299587.500000\n",
      "Degree: 2, RSS: $623955062706519.125000\n",
      "Degree: 3, RSS: $625820280251530.625000\n",
      "Degree: 4, RSS: $629987341468499.750000\n",
      "Degree: 5, RSS: $628240679314405.875000\n",
      "Degree: 6, RSS: $566268593930554.500000\n",
      "Degree: 7, RSS: $1073845517537453.625000\n",
      "Degree: 8, RSS: $7087872270340538.000000\n",
      "Degree: 9, RSS: $45303601606652160.000000\n",
      "Degree: 10, RSS: $247569911437529216.000000\n",
      "Degree: 11, RSS: $1193782560132883968.000000\n",
      "Degree: 12, RSS: $5092665343583419392.000000\n",
      "Degree: 13, RSS: $761623002128430592.000000\n",
      "Degree: 14, RSS: $2297560925006189568.000000\n",
      "Degree: 15, RSS: $6955038097253948416.000000\n"
     ]
    }
   ],
   "source": [
    "RSS = list()  #or =[]\n",
    "min_rss = None\n",
    "best_deg = None\n",
    "\n",
    "for degree in range(1, 15+1):\n",
    "    #print \"Doing degree\", degree,\"polynomial\"\n",
    "    poly_data = polynomial_dframe( training['sqft_living'], degree )\n",
    "    my_features = poly_data.columns # get the name of the features\n",
    "    poly_data['price'] = training['price'] # add price to the data since it's the target\n",
    "    \n",
    "    # train the model using training data\n",
    "    poly_model= LinearRegression()\n",
    "    poly_model.fit( poly_data[my_features], poly_data['price'] ) \n",
    "    \n",
    "    # make predictions using validation data\n",
    "    validation_data = polynomial_dframe( validation['sqft_living'], degree )  \n",
    "    validation_data['price'] = validation['price'] # add price to the data since it's the target\n",
    "    predictions = poly_model.predict(validation_data[my_features])\n",
    "    \n",
    "    # residuals = actual outcome in validation set - predictions on validation set \n",
    "    residuals = validation['price'] - predictions\n",
    "    rss = (residuals**2).sum()\n",
    "    RSS.append(rss)\n",
    "    \n",
    "    print(\"Degree: %s, RSS: $%.6f\" % (degree, rss))\n",
    "    \n",
    "    if min_rss is None or rss < min_rss:\n",
    "        min_rss = rss\n",
    "        best_deg = degree\n",
    "    "
   ]
  },
  {
   "cell_type": "code",
   "execution_count": 101,
   "metadata": {
    "collapsed": false
   },
   "outputs": [
    {
     "name": "stdout",
     "output_type": "stream",
     "text": [
      "Lowest RSS $566268593930554.500000 with polynomial of degree 6\n"
     ]
    }
   ],
   "source": [
    "print \"Lowest RSS $%0.6f with polynomial of degree %d\" %(min(RSS), RSS.index(min(RSS)) + 1)\n",
    "best_degree = RSS.index(min(RSS)) + 1"
   ]
  },
  {
   "cell_type": "markdown",
   "metadata": {},
   "source": [
    "**Quiz Question: Which degree (1, 2, …, 15) had the lowest RSS on Validation data?**\n",
    "\n",
    "As we saw above, a degree 6 polynomial gives lowest RSS on validation data."
   ]
  },
  {
   "cell_type": "markdown",
   "metadata": {},
   "source": [
    "Now that you have chosen the degree of your polynomial using validation data, compute the RSS of **this** model on TEST data. Report the RSS on your quiz."
   ]
  },
  {
   "cell_type": "code",
   "execution_count": 103,
   "metadata": {
    "collapsed": false
   },
   "outputs": [
    {
     "name": "stdout",
     "output_type": "stream",
     "text": [
      "2.76693705523e+14\n",
      "2.76693705523e+14\n",
      "So RMSE is just square root of MSE =  353278.162808\n"
     ]
    }
   ],
   "source": [
    "# 1st train using optimal degree on training data\n",
    "poly_data = polynomial_dframe( training['sqft_living'], degree )\n",
    "my_features = poly_data.columns # get the name of the features\n",
    "poly_data['price'] = training['price'] # add price to the data since it's the target\n",
    "#print poly_data.head(2)   \n",
    "\n",
    "# train the model using training data\n",
    "poly_model= LinearRegression()\n",
    "poly_model.fit( poly_data[my_features], poly_data['price'] ) # make predictions using testing data\n",
    "\n",
    "# create testing data using same degree polynomial as features - very potent!!!\n",
    "testing_data = polynomial_dframe( testing['sqft_living'], degree ) \n",
    "testing_data.head(2)\n",
    "\n",
    "# do predictions\n",
    "predictions = poly_model.predict(testing_data[my_features])\n",
    "    \n",
    "# residuals = actual outcome in validation set - predictions on validation set \n",
    "residuals = testing['price'] - predictions\n",
    "rss = (residuals**2).sum()\n",
    "print rss                      #2.5290157284e+14  given by graphlab way of doing this\n",
    "\n",
    "print metrics.mean_squared_error(testing['price'], predictions)  * len(predictions)\n",
    "print \"So RMSE is just square root of MSE = \", np.sqrt(metrics.mean_squared_error(testing['price'], predictions))"
   ]
  },
  {
   "cell_type": "markdown",
   "metadata": {},
   "source": [
    "metrics.mean_squared_error **MSE = rss/n**, so therefore **rss = MSE * n**\n",
    "\n",
    "rmse given by graphlab = 255076.14 , about 100,000 smaller value!!! \n",
    "\n",
    "**Quiz Question: what is the RSS on TEST data for the model with the degree selected from Validation data?**  \n",
    "\n",
    "2.76693705523e+14\n",
    "\n",
    "5.66268593931e+14 - was the lowest RSS on validation data so test rss is even better"
   ]
  },
  {
   "cell_type": "code",
   "execution_count": null,
   "metadata": {
    "collapsed": true
   },
   "outputs": [],
   "source": []
  }
 ],
 "metadata": {
  "kernelspec": {
   "display_name": "Python 2",
   "language": "python",
   "name": "python2"
  },
  "language_info": {
   "codemirror_mode": {
    "name": "ipython",
    "version": 2
   },
   "file_extension": ".py",
   "mimetype": "text/x-python",
   "name": "python",
   "nbconvert_exporter": "python",
   "pygments_lexer": "ipython2",
   "version": "2.7.11"
  }
 },
 "nbformat": 4,
 "nbformat_minor": 0
}
