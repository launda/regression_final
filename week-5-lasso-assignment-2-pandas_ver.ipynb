{
 "cells": [
  {
   "cell_type": "markdown",
   "metadata": {},
   "source": [
    "# Regression Week 5: Ass 2: LASSO (coordinate descent)\n",
    "## pandas version\n",
    "\n",
    "see also https://www.analyticsvidhya.com/blog/2016/01/complete-tutorial-ridge-lasso-regression-python/\n",
    "\n",
    "also http://scikit-learn.org/stable/\n",
    "\n",
    "https://github.com/scikit-learn/scikit-learn/blob/master/sklearn/linear_model/coordinate_descent.py\n",
    "\n",
    "http://au.mathworks.com/help/stats/lasso.html\n",
    "\n",
    "see solution also at https://github.com/anindya-saha/Machine-Learning-with-Python/blob/master/Coursera-Machine-Learning-Regression/week-5-lasso-assignment-2-graphlab.ipynb  and\n",
    "https://github.com/kgrodzicki/machine-learning-specialization/blob/master/course-2-regression/notebooks/week-5-lasso-assignment-2-blank.ipynb"
   ]
  },
  {
   "cell_type": "markdown",
   "metadata": {},
   "source": [
    "In this notebook, you will implement your very own LASSO solver via coordinate descent. You will:\n",
    "* Write a function to normalize features\n",
    "* Implement coordinate descent for LASSO\n",
    "* Explore effects of L1 penalty"
   ]
  },
  {
   "cell_type": "markdown",
   "metadata": {},
   "source": [
    "# Fire up graphlab create"
   ]
  },
  {
   "cell_type": "markdown",
   "metadata": {},
   "source": [
    "Make sure you have the latest version of graphlab (>= 1.7)"
   ]
  },
  {
   "cell_type": "code",
   "execution_count": 54,
   "metadata": {
    "collapsed": false
   },
   "outputs": [],
   "source": [
    "import pandas as pd\n",
    "import numpy as np # note this allows us to refer to numpy as np instead "
   ]
  },
  {
   "cell_type": "markdown",
   "metadata": {},
   "source": [
    "# Load in house sales data\n",
    "\n",
    "**1.** Dataset is from house sales in King County, the region where the city of Seattle, WA is located."
   ]
  },
  {
   "cell_type": "code",
   "execution_count": 55,
   "metadata": {
    "collapsed": false
   },
   "outputs": [
    {
     "name": "stdout",
     "output_type": "stream",
     "text": [
      "\n",
      "Features are  Index([u'id', u'date', u'price', u'bedrooms', u'bathrooms', u'sqft_living',\n",
      "       u'sqft_lot', u'floors', u'waterfront', u'view', u'condition', u'grade',\n",
      "       u'sqft_above', u'sqft_basement', u'yr_built', u'yr_renovated',\n",
      "       u'zipcode', u'lat', u'long', u'sqft_living15', u'sqft_lot15'],\n",
      "      dtype='object')\n",
      "\n",
      "Number of features = 21\n",
      "           id             date     price  bedrooms  bathrooms  sqft_living  \\\n",
      "0  7129300520  20141013T000000  221900.0       3.0       1.00       1180.0   \n",
      "1  6414100192  20141209T000000  538000.0       3.0       2.25       2570.0   \n",
      "\n",
      "   sqft_lot  floors  waterfront  view     ...      grade  sqft_above  \\\n",
      "0      5650       1           0     0     ...          7        1180   \n",
      "1      7242       2           0     0     ...          7        2170   \n",
      "\n",
      "   sqft_basement  yr_built  yr_renovated  zipcode      lat     long  \\\n",
      "0              0      1955             0    98178  47.5112 -122.257   \n",
      "1            400      1951          1991    98125  47.7210 -122.319   \n",
      "\n",
      "   sqft_living15  sqft_lot15  \n",
      "0         1340.0      5650.0  \n",
      "1         1690.0      7639.0  \n",
      "\n",
      "[2 rows x 21 columns]\n"
     ]
    }
   ],
   "source": [
    "dtype_dict = {'bathrooms':float, 'waterfront':int, 'sqft_above':int, \n",
    "              'sqft_living15':float, 'grade':int, 'yr_renovated':int, \n",
    "              'price':float, 'bedrooms':float, 'zipcode':str, 'long':float, \n",
    "              'sqft_lot15':float, 'sqft_living':float, 'floors':float, 'condition':int, \n",
    "              'lat':float, 'date':str, 'sqft_basement':int, 'yr_built':int, 'id':str, 'sqft_lot':int, 'view':int}\n",
    "sales = pd.read_csv('../Week3/kc_house_data.csv', dtype=dtype_dict)\n",
    "\n",
    "# In the dataset, 'floors' was defined with type string, \n",
    "# so we'll convert them to int, before using it below\n",
    "sales['floors'] = sales['floors'].astype(int) \n",
    "\n",
    "print \"\\nFeatures are \",sales.columns\n",
    "print \"\\nNumber of features = %d\" %len(sales.columns)\n",
    "print sales.head(2)"
   ]
  },
  {
   "cell_type": "markdown",
   "metadata": {},
   "source": [
    "If we want to do any \"feature engineering\" like creating new features or adjusting existing ones we should do this directly using the dataframes. For this notebook, however, we will work with the existing features.\n",
    "\n",
    "**2.** If you’re using Python: to do the matrix operations required to perform a coordinate descent we will be using the popular python library ‘numpy’ which is a computational library specialized for operations on arrays"
   ]
  },
  {
   "cell_type": "markdown",
   "metadata": {},
   "source": [
    "# Import useful functions from previous notebook"
   ]
  },
  {
   "cell_type": "markdown",
   "metadata": {},
   "source": [
    "**3.** Create function ‘get_numpy_data’ (or equivalent) that takes a data set, a list of features (e.g. [‘sqft_living’, ‘bedrooms’]), to be used as inputs, and a name of the output (e.g. ‘price’). This function returns a ‘feature_matrix’ (2D array) consisting of first a column of ones followed by columns containing the values of the input features in the data set in the same order as the input list. It also returns an ‘output_array’ which is an array of the values of the output in the data set (e.g. ‘price’). So we convert the pandas dataframe into a 2D Numpy array."
   ]
  },
  {
   "cell_type": "code",
   "execution_count": 56,
   "metadata": {
    "collapsed": true
   },
   "outputs": [],
   "source": [
    "# inputs\n",
    "# a dataframe , a list of features (e.g. [‘sqft_living’, ‘bedrooms’]), and target/response (e.g. ‘price’)\n",
    "# ouputs\n",
    "#  ‘feature_matrix’ (2D array containing values of features only - the X matrix)\n",
    "#  an ‘output_array’ ,values of the output/response/target in the data set or y (e.g. ‘price’)\n",
    "\n",
    "# Called like this, returning data in a tuple\n",
    "# (example_features, example_output) =  get_numpy_data(sales, ['sqft_living'], 'price')\n",
    "# NB., sales is the pdFrame, features_list = ['sqft_living', ....], response = 'price')\n",
    "    \n",
    "def get_numpy_data(data_pdframe, features, output):\n",
    "    \n",
    "    data_pdframe['constant'] = 1 # this is how you add a new column to an dataframe\n",
    "    \n",
    "    # add the column 'constant' to the FRONT of the features list \n",
    "    # so that we can extract it along with the others:\n",
    "    features = ['constant'] + features # add two lists\n",
    "    \n",
    "    #NB features = 'constant' + features  wont work!! - can't add string constant to a list\n",
    "    \n",
    "    print \"get_numpy_data(): Features\", features, \"\\n\"  \n",
    "    \n",
    "    # select the columns of data_pdFrame given by the features list \n",
    "    # into the pdFrame features_pdframe (now including constant 1 col):\n",
    "    features_pdframe = data_pdframe[features]\n",
    "    \n",
    "    print \"get_numpy_data(): print features_pdframe(head(2)\\n\",features_pdframe.head(2), \"\\n\"  \n",
    "    #prints the 2 columns n its values, constant and sqft_living\n",
    "    \n",
    "    # Convert the pdframe to its Numpy-array representation.\n",
    "    # feature_matrix = features_sframe.to_numpy()    #if sframe , use .to_numpy()\n",
    "    feature_matrix = features_pdframe.as_matrix()    #if pdframe ,use .as_matrix() \n",
    "    len(feature_matrix)\n",
    "    print \"get_numpy_data(): print features_pdframe.as_matrix()[0:2, :]\\n\",feature_matrix[0:2, :] , \"\\n\" \n",
    "    \n",
    "    # assign the column of data_pdframe associated with the output to the SArray output_sarray\n",
    "    output_pandas_series = data_pdframe[output]\n",
    "    print \"get_numpy_data(): data_pdframe['price']\\n\", output_pandas_series .head(2), \"\\n\"\n",
    "    \n",
    "    # Convert the pdframe column - a series to its Numpy-array representation.\n",
    "    # output_array =      output_sarray.to_numpy()   #if column is sframe sarray\n",
    "    output_array = output_pandas_series.as_matrix()  #if column is pandas series\n",
    "    print \"get_numpy_data(): data_pdframe['price'].as_matrix()\\n\", output_array[0:2], \"\\n\"\n",
    "    \n",
    "    return(feature_matrix, output_array)"
   ]
  },
  {
   "cell_type": "markdown",
   "metadata": {},
   "source": [
    "**4.** Define `predict_output()` function to compute the predictions for an entire matrix of features given the matrix and the weights. This function accepts a 2D array ‘feature_matrix’ and a 1D array ‘weights’ and return a 1D array ‘predictions’."
   ]
  },
  {
   "cell_type": "code",
   "execution_count": 57,
   "metadata": {
    "collapsed": true
   },
   "outputs": [],
   "source": [
    "def predict_output(feature_matrix, weights):\n",
    "    # assume feature_matrix is a numpy matrix containing the features as columns \n",
    "    # and weights is a corresponding numpy array (our list of model coefficients/weights)\n",
    "    # create the predictions vector by using np.dot()\n",
    "    \n",
    "    predictions = np.dot(feature_matrix, weights)\n",
    "    #or         = np.sum(feature_matrix * weights)\n",
    "    return(predictions)"
   ]
  },
  {
   "cell_type": "markdown",
   "metadata": {},
   "source": [
    "# Normalize features\n",
    "**5.** In the house dataset, features vary wildly in their relative magnitude: ** `sqft_living` is very large overall compared to `bedrooms`, for instance. As a result, weight for `sqft_living` would be much smaller than weight for `bedrooms`.** This is problematic because **\"small\" weights are dropped first as `l1_penalty` goes up!!**. \n",
    "\n",
    "To give equal considerations for all features, we need to **normalize features**: we divide each feature by its 2-norm so that the transformed feature has norm 1.\n",
    "\n",
    "We can do this normalization easily with Numpy: let us first consider a small matrix."
   ]
  },
  {
   "cell_type": "code",
   "execution_count": 58,
   "metadata": {
    "collapsed": false
   },
   "outputs": [
    {
     "name": "stdout",
     "output_type": "stream",
     "text": [
      "[[  3.   5.   8.]\n",
      " [  4.  12.  15.]]\n"
     ]
    }
   ],
   "source": [
    "X = np.array([[3.,5.,8.],[4.,12.,15.]])\n",
    "print X"
   ]
  },
  {
   "cell_type": "markdown",
   "metadata": {},
   "source": [
    "Numpy provides a shorthand for computing 2-norms of each column:"
   ]
  },
  {
   "cell_type": "code",
   "execution_count": 59,
   "metadata": {
    "collapsed": false
   },
   "outputs": [
    {
     "name": "stdout",
     "output_type": "stream",
     "text": [
      "5.0 13.0 17.0\n",
      "[  5.  13.  17.]\n",
      "9.89949493661 19.6214168703\n",
      "[  9.89949494  19.62141687]\n"
     ]
    }
   ],
   "source": [
    "norms = np.linalg.norm(X, axis=0) # gives [norm(X[:,0]), norm(X[:,1]), norm(X[:,2])]\n",
    "print np.sqrt(3**2 + 4**2), np.sqrt(5**2 + 12**2),np.sqrt(8**2 + 15**2)\n",
    "print norms\n",
    "norms1 = np.linalg.norm(X, axis=1) # gives [norm(X[:,0]), norm(X[:,1]), norm(X[:,2])]\n",
    "print np.sqrt(3**2 + 5**2 + 8**2), np.sqrt(4**2 + 12**2 + 15**2)\n",
    "print norms1"
   ]
  },
  {
   "cell_type": "markdown",
   "metadata": {},
   "source": [
    "To normalize, apply element-wise division:"
   ]
  },
  {
   "cell_type": "code",
   "execution_count": 60,
   "metadata": {
    "collapsed": false
   },
   "outputs": [
    {
     "name": "stdout",
     "output_type": "stream",
     "text": [
      "[[ 0.6         0.38461538  0.47058824]\n",
      " [ 0.8         0.92307692  0.88235294]]\n"
     ]
    }
   ],
   "source": [
    "print X / norms # gives [X[:,0]/norm(X[:,0]), X[:,1]/norm(X[:,1]), X[:,2]/norm(X[:,2])]"
   ]
  },
  {
   "cell_type": "markdown",
   "metadata": {},
   "source": [
    "**6.** Using the shorthand we just covered, write a short function called `normalize_features(feature_matrix)`, which normalizes columns of a given feature matrix. The function should return a pair `(normalized_features, norms)`, where the second item contains the *norms of original features*. As discussed in the lectures, we will use these norms to normalize the test data in the same way as we normalized the training data. "
   ]
  },
  {
   "cell_type": "code",
   "execution_count": 61,
   "metadata": {
    "collapsed": true
   },
   "outputs": [],
   "source": [
    "def normalize_features(feature_matrix):\n",
    "    norms = np.linalg.norm(feature_matrix, axis=0)\n",
    "    normalized_features = feature_matrix/ norms\n",
    "    \n",
    "    return  (normalized_features, norms)"
   ]
  },
  {
   "cell_type": "markdown",
   "metadata": {},
   "source": [
    "To test the function, run the following:"
   ]
  },
  {
   "cell_type": "code",
   "execution_count": 62,
   "metadata": {
    "collapsed": false
   },
   "outputs": [
    {
     "name": "stdout",
     "output_type": "stream",
     "text": [
      "[[ 0.6  0.6  0.6]\n",
      " [ 0.8  0.8  0.8]]\n",
      "[  5.  10.  15.]\n"
     ]
    }
   ],
   "source": [
    "(features, norms) = normalize_features(np.array([[3.,6.,9.],[4.,8.,12.]]))\n",
    "print features\n",
    "# should print\n",
    "# [[ 0.6  0.6  0.6]\n",
    "#  [ 0.8  0.8  0.8]]\n",
    "print norms\n",
    "# should print\n",
    "# [5.  10.  15.]"
   ]
  },
  {
   "cell_type": "markdown",
   "metadata": {},
   "source": [
    "# Implementing Coordinate Descent with normalized features"
   ]
  },
  {
   "cell_type": "markdown",
   "metadata": {},
   "source": [
    "**7. We seek to obtain a sparse set of weights by minimizing the LASSO cost function**\n",
    "```\n",
    "SUM[ (prediction - output)^2 ] + lambda*( |w[1]| + ... + |w[k]|).\n",
    "```\n",
    "(By convention, we do not include `w[0]` in the L1 penalty term. We never want to push the intercept to zero.)\n",
    "\n",
    "The absolute value sign makes the cost function non-differentiable, so simple gradient descent is not viable (you would need to implement a method called subgradient descent). Instead, we will use **coordinate descent**: at each iteration, we will fix all weights but weight `i` and find the value of weight `i` that minimizes the objective. That is, we look for\n",
    "```\n",
    "argmin_{w[i]} [ SUM[ (prediction - output)^2 ] + lambda*( |w[1]| + ... + |w[k]|) ]\n",
    "```\n",
    "where all weights other than `w[i]` are held to be constant. We will optimize one `w[i]` at a time, circling through the weights multiple times (round robin style).  \n",
    "  1. Pick a coordinate `i`\n",
    "  2. Compute `w[i]` that minimizes the cost function `SUM[ (prediction - output)^2 ] + lambda*( |w[1]| + ... + |w[k]|)`\n",
    "  3. Repeat Steps 1 and 2 for all coordinates, multiple times"
   ]
  },
  {
   "cell_type": "markdown",
   "metadata": {},
   "source": [
    "**8.** For this notebook, we use **cyclical coordinate descent with normalized features**, where we cycle through coordinates or features 0 to (d-1) in order, and assume the features were normalized as discussed above. The formula for optimizing each coordinate is as follows:\n",
    "```\n",
    "       ┌ (ro[i] + lambda/2)     if ro[i] < -lambda/2\n",
    "w[i] = ├ 0                      if -lambda/2 <= ro[i] <= lambda/2\n",
    "       └ (ro[i] - lambda/2)     if ro[i] > lambda/2\n",
    "```\n",
    "where\n",
    "```\n",
    "ro[i] = SUM[ [feature_i]*(output - prediction + w[i]*[feature_i]) ].\n",
    "```\n",
    "\n",
    "Note that we do not regularize the weight of the constant feature (intercept) `w[0]`, so, for this weight, the update is simply:\n",
    "```\n",
    "w[0] = ro[i]\n",
    "```"
   ]
  },
  {
   "cell_type": "markdown",
   "metadata": {},
   "source": [
    "## Effect of L1 penalty"
   ]
  },
  {
   "cell_type": "markdown",
   "metadata": {},
   "source": [
    "**9.** Consider a simple model with 2 features: ‘sqft_living’ and ‘bedrooms’. The output is ‘price’.\n",
    "\n",
    "* First, run get_numpy_data() (or equivalent) to obtain a feature matrix with 3 columns (constant column added). Use the entire ‘sales’ dataset for now.\n",
    "* Normalize columns of the feature matrix. Save the norms of original features as ‘norms’.\n",
    "* Set initial weights to [1,4,1].\n",
    "* Make predictions with feature matrix and initial weights.\n",
    "* Compute values of ro[i], where\n",
    "\n",
    "`ro[i] = SUM[ [feature_i]*(output - prediction + w[i]*[feature_i]) ]`\n",
    "\n",
    "Run get_numpy_data() (or equivalent) to obtain a feature matrix with 3 columns (constant column added). "
   ]
  },
  {
   "cell_type": "code",
   "execution_count": 63,
   "metadata": {
    "collapsed": false
   },
   "outputs": [
    {
     "name": "stdout",
     "output_type": "stream",
     "text": [
      "get_numpy_data(): Features ['constant', 'sqft_living', 'bedrooms'] \n",
      "\n",
      "get_numpy_data(): print features_pdframe(head(2)\n",
      "   constant  sqft_living  bedrooms\n",
      "0         1       1180.0       3.0\n",
      "1         1       2570.0       3.0 \n",
      "\n",
      "get_numpy_data(): print features_pdframe.as_matrix()[0:2, :]\n",
      "[[  1.00000000e+00   1.18000000e+03   3.00000000e+00]\n",
      " [  1.00000000e+00   2.57000000e+03   3.00000000e+00]] \n",
      "\n",
      "get_numpy_data(): data_pdframe['price']\n",
      "0    221900.0\n",
      "1    538000.0\n",
      "Name: price, dtype: float64 \n",
      "\n",
      "get_numpy_data(): data_pdframe['price'].as_matrix()\n",
      "[ 221900.  538000.] \n",
      "\n",
      "21613\n"
     ]
    }
   ],
   "source": [
    "simple_features = ['sqft_living', 'bedrooms']\n",
    "my_output = 'price'\n",
    "(simple_feature_matrix, output) = get_numpy_data(sales, simple_features, my_output)\n",
    "print len(output)"
   ]
  },
  {
   "cell_type": "markdown",
   "metadata": {},
   "source": [
    "Normalize columns of the feature matrix."
   ]
  },
  {
   "cell_type": "code",
   "execution_count": 64,
   "metadata": {
    "collapsed": false
   },
   "outputs": [
    {
     "data": {
      "text/plain": [
       "array([[ 0.00680209,  0.00353021,  0.00583571],\n",
       "       [ 0.00680209,  0.00768869,  0.00583571],\n",
       "       [ 0.00680209,  0.00230361,  0.00389048],\n",
       "       ..., \n",
       "       [ 0.00680209,  0.00305154,  0.00389048],\n",
       "       [ 0.00680209,  0.00478673,  0.00583571],\n",
       "       [ 0.00680209,  0.00305154,  0.00389048]])"
      ]
     },
     "execution_count": 64,
     "metadata": {},
     "output_type": "execute_result"
    }
   ],
   "source": [
    "(simple_feature_matrix, norms) = normalize_features(simple_feature_matrix)\n",
    "simple_feature_matrix"
   ]
  },
  {
   "cell_type": "markdown",
   "metadata": {},
   "source": [
    "We assign some random set of initial weights [1,4,1] and inspect the values of `ro[i]`:"
   ]
  },
  {
   "cell_type": "code",
   "execution_count": 65,
   "metadata": {
    "collapsed": false
   },
   "outputs": [
    {
     "data": {
      "text/plain": [
       "array([ 1.,  4.,  1.])"
      ]
     },
     "execution_count": 65,
     "metadata": {},
     "output_type": "execute_result"
    }
   ],
   "source": [
    "weights = np.array([1., 4., 1.])\n",
    "weights"
   ]
  },
  {
   "cell_type": "markdown",
   "metadata": {},
   "source": [
    "Use `predict_output()` to make predictions with feature matrix and initial weights."
   ]
  },
  {
   "cell_type": "code",
   "execution_count": 66,
   "metadata": {
    "collapsed": false
   },
   "outputs": [
    {
     "data": {
      "text/plain": [
       "array([ 0.02675867,  0.04339256,  0.01990703, ...,  0.02289873,\n",
       "        0.03178473,  0.02289873])"
      ]
     },
     "execution_count": 66,
     "metadata": {},
     "output_type": "execute_result"
    }
   ],
   "source": [
    "prediction = predict_output(simple_feature_matrix, weights)\n",
    "# its simply np.dot(simple_feature_matrix, weights)\n",
    "prediction\n"
   ]
  },
  {
   "cell_type": "markdown",
   "metadata": {},
   "source": [
    "Compute the values of `ro[i]` for each feature in this simple model, using the formula given above, using the formula:\n",
    "```\n",
    "ro[i] = SUM[  [feature_i]* ( output - prediction + w[i]*[feature_i] ) ]\n",
    "```\n",
    "\n",
    "*Hint: You can get a Numpy vector for feature_i using:*\n",
    "```\n",
    "simple_feature_matrix[:,i]\n",
    "```"
   ]
  },
  {
   "cell_type": "code",
   "execution_count": 67,
   "metadata": {
    "collapsed": false
   },
   "outputs": [
    {
     "data": {
      "text/plain": [
       "array([ 0.00353021,  0.00768869,  0.00230361, ...,  0.00305154,\n",
       "        0.00478673,  0.00305154])"
      ]
     },
     "execution_count": 67,
     "metadata": {},
     "output_type": "execute_result"
    }
   ],
   "source": [
    "simple_feature_matrix[:,0]   #array([ 1.,  1.,  1., ...,  1.,  1.,  1.])\n",
    "simple_feature_matrix[:,1]"
   ]
  },
  {
   "cell_type": "code",
   "execution_count": 68,
   "metadata": {
    "collapsed": false
   },
   "outputs": [
    {
     "name": "stdout",
     "output_type": "stream",
     "text": [
      "3\n",
      "{0: 79400300.014522895, 1: 87939470.823251754, 2: 80966698.66623947}\n"
     ]
    }
   ],
   "source": [
    "ro = {}   #or   ro = list()\n",
    "\n",
    "print len(weights)\n",
    "for i in xrange(len(weights)): # loop over each weight\n",
    "    feature_i = simple_feature_matrix[:,i]\n",
    "    #ro[i]= np.sum([  [feature_i] * (output - prediction + weights[i]*[feature_i]) ])\n",
    "    ro[i] =  np.dot(  (feature_i),  (output - prediction + weights[i] *feature_i))\n",
    "    #ro.append(ro_i)\n",
    "\n",
    "print ro\n",
    "# my way of doing ro_i gives these ro's, 1st and last is same as  mine!!!\n",
    "#79400300.0349\n",
    "#351757871.092\n",
    "#80966698.676"
   ]
  },
  {
   "cell_type": "markdown",
   "metadata": {},
   "source": [
    "***QUIZ QUESTION***\n",
    "\n",
    "**10.** Recall that, whenever `ro[i]` falls between `-l1_penalty/2` and `l1_penalty/2`, the corresponding weight `w[i]` is sent to zero. Now suppose we were to take one step of coordinate descent on either feature 1 or feature 2. What range of values of `l1_penalty` **would not** set `w[1]` zero, but **would** set `w[2]` to zero, if we were to take a step in that coordinate? "
   ]
  },
  {
   "cell_type": "code",
   "execution_count": 69,
   "metadata": {
    "collapsed": false
   },
   "outputs": [
    {
     "name": "stdout",
     "output_type": "stream",
     "text": [
      "-175878941.647 <= 2 * ro[1] <= 175878941.647\n",
      "-161933397.332 <= 2 * ro[2] <= 161933397.332\n"
     ]
    }
   ],
   "source": [
    "# note lambda = l1_penalty = ro[i] * 2\n",
    "# w[1] = 0 if -lambda/2 <= ro[1] <= lambda/2\n",
    "# w[2] = 0 if -lambda/2 <= ro[2] <= lambda/2\n",
    "#  so the range of values of l1_penalty that would set w[1] zero\n",
    "print(\"%s <= 2 * ro[1] <= %s\" % (-2 * ro[1], 2 * ro[1]))\n",
    "#  so the range of values of l1_penalty that would set w[2] zero\n",
    "print(\"%s <= 2 * ro[2] <= %s\" % (-2 * ro[2], 2 * ro[2]))"
   ]
  },
  {
   "cell_type": "markdown",
   "metadata": {},
   "source": [
    "***QUIZ QUESTION***\n",
    "\n",
    "**11.** What range of values of `l1_penalty` would set **both** `w[1]` and `w[2]` to zero, if we were to take a step in that coordinate? "
   ]
  },
  {
   "cell_type": "markdown",
   "metadata": {
    "collapsed": false
   },
   "source": [
    "We can see from above that l1_penalty range for ro[2] is subset of ro[2] peanlty, so for any lambda falling in range for ro[2], wud set both w[1] and w[2] to zero. "
   ]
  },
  {
   "cell_type": "markdown",
   "metadata": {},
   "source": [
    "So we can say that `ro[i]` quantifies the significance of the i-th feature: the larger `ro[i]` is, the more likely it is for the i-th feature to be retained."
   ]
  },
  {
   "cell_type": "markdown",
   "metadata": {},
   "source": [
    "## Single Coordinate Descent Step"
   ]
  },
  {
   "cell_type": "markdown",
   "metadata": {},
   "source": [
    "**12.** Using the formula above, implement coordinate descent that minimizes the cost function over a single feature i. Note that the intercept (weight 0) is not regularized. The function should accept feature matrix, output, current weights, l1 penalty, and index of feature to optimize over. The function should return new weight for feature i."
   ]
  },
  {
   "cell_type": "code",
   "execution_count": 70,
   "metadata": {
    "collapsed": false
   },
   "outputs": [],
   "source": [
    "def lasso_coordinate_descent_step(i, feature_matrix, output, weights, l1_penalty):\n",
    "    # compute prediction\n",
    "    prediction = predict_output(feature_matrix, weights)\n",
    "    # compute ro[i] = SUM[ [feature_i]*(output - prediction + weight[i]*[feature_i]) ]\n",
    "    feature_i = feature_matrix[:,i]\n",
    "    ro_i =       (feature_i * (output - prediction + weights[i] * feature_i)).sum()\n",
    "    #ro_i = np.sum(feature_i * (output - prediction + weights[i] * feature_i))  \n",
    "    #ro_i = np.dot(feature_i,  (output - prediction + weights[i] * feature_i))\n",
    "    # all three ways above are equivalent\n",
    "    \n",
    "    if i == 0: # intercept -- do not regularize\n",
    "        new_weight_i = ro_i \n",
    "    elif ro_i < -l1_penalty/2.0:\n",
    "        new_weight_i = ro_i + l1_penalty/2.0\n",
    "    elif ro_i > l1_penalty/2.0:\n",
    "        new_weight_i = ro_i - l1_penalty/2.0\n",
    "    else:\n",
    "        new_weight_i = 0.0\n",
    "    \n",
    "    return new_weight_i"
   ]
  },
  {
   "cell_type": "markdown",
   "metadata": {},
   "source": [
    "To test the function, run the following cell:"
   ]
  },
  {
   "cell_type": "code",
   "execution_count": 71,
   "metadata": {
    "collapsed": false
   },
   "outputs": [
    {
     "name": "stdout",
     "output_type": "stream",
     "text": [
      "0.425558846691\n"
     ]
    }
   ],
   "source": [
    "# should print 0.425558846691\n",
    "import math\n",
    "print lasso_coordinate_descent_step(1, \n",
    "                                    np.array([[3./math.sqrt(13),\n",
    "                                               1./math.sqrt(10)],\n",
    "                                              [2./math.sqrt(13),\n",
    "                                               3./math.sqrt(10)]]), \n",
    "                                   np.array([1., 1.]), np.array([1., 4.]), 0.1)"
   ]
  },
  {
   "cell_type": "markdown",
   "metadata": {
    "collapsed": true
   },
   "source": [
    "## Cyclical coordinate descent "
   ]
  },
  {
   "cell_type": "markdown",
   "metadata": {},
   "source": [
    "**13.** Now that we have a function that optimizes the cost function over a single coordinate, let us implement cyclical coordinate descent where we optimize coordinates 0, 1, ..., (d-1) in order and repeat.\n",
    "\n",
    "When do we know to stop? Each time we scan all the coordinates (features) once, we measure the change in weight for each coordinate. If no coordinate changes by more than a specified threshold, we stop."
   ]
  },
  {
   "cell_type": "markdown",
   "metadata": {},
   "source": [
    "For each iteration:\n",
    "1. As you loop over features in order and perform coordinate descent, measure how much each coordinate changes.\n",
    "2. After the loop, if the maximum change across all coordinates is falls below the tolerance, stop. Otherwise, go back to step 1.\n",
    "\n",
    "Return weights\n",
    "\n",
    "\n",
    "The function should accept the following parameters:\n",
    "\n",
    "*    Feature matrix\n",
    "*    Output array\n",
    "*    Initial weights\n",
    "*    L1 penalty\n",
    "*    Tolerance\n",
    "\n",
    "**IMPORTANT: when computing a new weight for coordinate i, make sure to incorporate the new weights for coordinates 0, 1, ..., i-1. One good way is to update your weights variable in-place. See following pseudocode for illustration.**\n",
    "```\n",
    "for i in range(len(weights)):\n",
    "    old_weights_i = weights[i] # remember old value of weight[i], as it will be overwritten\n",
    "    # the following line uses new values for weight[0], weight[1], ..., weight[i-1]\n",
    "    #     and old values for weight[i], ..., weight[d-1]\n",
    "    weights[i] = lasso_coordinate_descent_step(i, feature_matrix, output, weights, l1_penalty)\n",
    "    \n",
    "    # use old_weights_i to compute change in coordinate\n",
    "    ...\n",
    "```"
   ]
  },
  {
   "cell_type": "code",
   "execution_count": 72,
   "metadata": {
    "collapsed": false
   },
   "outputs": [],
   "source": [
    "def lasso_cyclical_coordinate_descent(feature_matrix, output, initial_weights, l1_penalty, tolerance):\n",
    "    \n",
    "    converged = False\n",
    "    weights = np.array(initial_weights.copy()) # make sure it's a numpy array\n",
    "    \n",
    "    while not converged:\n",
    "        change = list()\n",
    "        for i in range(len(weights)):\n",
    "            old_weights_i = weights[i] # remember old value of weight[i], as it will be overwritten\n",
    "            # the following line uses new values for weight[0], weight[1], ..., weight[i-1]\n",
    "            # and old values for weight[i], ..., weight[d-1]\n",
    "            weights[i] = lasso_coordinate_descent_step(i, feature_matrix, output, weights, l1_penalty)\n",
    "\n",
    "            # use old_weights_i to compute change in coordinate\n",
    "            change_in_weight = abs(old_weights_i - weights[i])\n",
    "            change.append(change_in_weight)\n",
    "                       \n",
    "        if max(change) < tolerance:\n",
    "            converged = True\n",
    "                \n",
    "    return weights    "
   ]
  },
  {
   "cell_type": "markdown",
   "metadata": {},
   "source": [
    "**14.** Let us now go back to the simple model with 2 features: ‘sqft_living’ and ‘bedrooms’. Using ‘get_numpy_data’ (or equivalent), extract the feature matrix and the output array from from the house dataframe. Then normalize the feature matrix using ‘normalized_features()’ function.\n",
    "\n",
    "Using the following parameters, learn the weights on the sales dataset.\n",
    "\n",
    "*    Initial weights = all zeros\n",
    "*    L1 penalty = 1e7\n",
    "*    Tolerance = 1.0"
   ]
  },
  {
   "cell_type": "code",
   "execution_count": 73,
   "metadata": {
    "collapsed": false
   },
   "outputs": [],
   "source": [
    "simple_features = ['sqft_living', 'bedrooms']\n",
    "my_output = 'price'\n",
    "initial_weights = np.zeros(3)\n",
    "l1_penalty = 1e7\n",
    "tolerance = 1.0"
   ]
  },
  {
   "cell_type": "markdown",
   "metadata": {},
   "source": [
    "First create a normalized version of the feature matrix, `normalized_simple_feature_matrix`"
   ]
  },
  {
   "cell_type": "code",
   "execution_count": 74,
   "metadata": {
    "collapsed": false
   },
   "outputs": [
    {
     "name": "stdout",
     "output_type": "stream",
     "text": [
      "get_numpy_data(): Features ['constant', 'sqft_living', 'bedrooms'] \n",
      "\n",
      "get_numpy_data(): print features_pdframe(head(2)\n",
      "   constant  sqft_living  bedrooms\n",
      "0         1       1180.0       3.0\n",
      "1         1       2570.0       3.0 \n",
      "\n",
      "get_numpy_data(): print features_pdframe.as_matrix()[0:2, :]\n",
      "[[  1.00000000e+00   1.18000000e+03   3.00000000e+00]\n",
      " [  1.00000000e+00   2.57000000e+03   3.00000000e+00]] \n",
      "\n",
      "get_numpy_data(): data_pdframe['price']\n",
      "0    221900.0\n",
      "1    538000.0\n",
      "Name: price, dtype: float64 \n",
      "\n",
      "get_numpy_data(): data_pdframe['price'].as_matrix()\n",
      "[ 221900.  538000.] \n",
      "\n"
     ]
    }
   ],
   "source": [
    "(simple_feature_matrix, output) = get_numpy_data(sales, simple_features, my_output)\n",
    "(normalized_simple_feature_matrix, simple_norms) = normalize_features(simple_feature_matrix) # normalize features"
   ]
  },
  {
   "cell_type": "markdown",
   "metadata": {},
   "source": [
    "Then, run your implementation of LASSO coordinate descent:"
   ]
  },
  {
   "cell_type": "code",
   "execution_count": 75,
   "metadata": {
    "collapsed": false
   },
   "outputs": [
    {
     "data": {
      "text/plain": [
       "array([ 21624997.95951909,  63157247.20788956,         0.        ])"
      ]
     },
     "execution_count": 75,
     "metadata": {},
     "output_type": "execute_result"
    }
   ],
   "source": [
    "weights = lasso_cyclical_coordinate_descent(normalized_simple_feature_matrix, output,\n",
    "                                            initial_weights, l1_penalty, tolerance)\n",
    "weights"
   ]
  },
  {
   "cell_type": "markdown",
   "metadata": {},
   "source": [
    "**QUIZ QUESTIONS**\n",
    "\n",
    "**15. What is the RSS of the learned model on the normalized dataset?**\n",
    "\n",
    "**16. Which features had weight zero at convergence?**"
   ]
  },
  {
   "cell_type": "code",
   "execution_count": 76,
   "metadata": {
    "collapsed": true
   },
   "outputs": [],
   "source": [
    "def get_residual_sum_of_squares(predictions, output):\n",
    "     \n",
    "    # Then compute the residuals/errors\n",
    "    residual = output - predictions\n",
    "\n",
    "    # Then square and add them up\n",
    "    residual_squared = residual * residual\n",
    "    \n",
    "    RSS = residual_squared.sum()\n",
    "    print \"RSS\", RSS\n",
    "    return(RSS)"
   ]
  },
  {
   "cell_type": "code",
   "execution_count": 77,
   "metadata": {
    "collapsed": false
   },
   "outputs": [
    {
     "name": "stdout",
     "output_type": "stream",
     "text": [
      "[ 21624997.95951909  63157247.20788956         0.        ]\n",
      "RSS 1.63049247672e+15\n",
      "\n",
      "RSS: $1630492476715386.500000\n"
     ]
    }
   ],
   "source": [
    "print(weights)\n",
    "\n",
    "predictions = predict_output(normalized_simple_feature_matrix, weights)\n",
    "RSS = get_residual_sum_of_squares(predictions, output)\n",
    "print(\"\\nRSS: $%.6f\" % (RSS))"
   ]
  },
  {
   "cell_type": "markdown",
   "metadata": {},
   "source": [
    "# Evaluating LASSO fit with more features"
   ]
  },
  {
   "cell_type": "markdown",
   "metadata": {},
   "source": [
    "**17.** Let us split the sales dataset into training and test sets. If you are using GraphLab Create, call ‘random_split’ with .8 ratio and seed=0. Otherwise, please down the corresponding csv files from the downloads section."
   ]
  },
  {
   "cell_type": "code",
   "execution_count": 78,
   "metadata": {
    "collapsed": true
   },
   "outputs": [],
   "source": [
    "train_data = pd.read_csv('../Week3/wk3_kc_house_train_data.csv', dtype=dtype_dict)\n",
    "test_data = pd.read_csv('../Week3/wk3_kc_house_test_data.csv', dtype=dtype_dict)"
   ]
  },
  {
   "cell_type": "markdown",
   "metadata": {},
   "source": [
    "Let us consider the following set of features."
   ]
  },
  {
   "cell_type": "code",
   "execution_count": 79,
   "metadata": {
    "collapsed": true
   },
   "outputs": [],
   "source": [
    "all_features = ['bedrooms',\n",
    "                'bathrooms',\n",
    "                'sqft_living',\n",
    "                'sqft_lot',\n",
    "                'floors',\n",
    "                'waterfront', \n",
    "                'view', \n",
    "                'condition', \n",
    "                'grade',\n",
    "                'sqft_above',\n",
    "                'sqft_basement',\n",
    "                'yr_built', \n",
    "                'yr_renovated']\n",
    "my_output = 'price'"
   ]
  },
  {
   "cell_type": "markdown",
   "metadata": {},
   "source": [
    "**18.** First, create a normalized feature matrix from the TRAINING data with these features.  (Make you store the norms for the normalization, since we'll use them later)"
   ]
  },
  {
   "cell_type": "code",
   "execution_count": 80,
   "metadata": {
    "collapsed": false,
    "scrolled": true
   },
   "outputs": [
    {
     "name": "stdout",
     "output_type": "stream",
     "text": [
      "get_numpy_data(): Features ['constant', 'bedrooms', 'bathrooms', 'sqft_living', 'sqft_lot', 'floors', 'waterfront', 'view', 'condition', 'grade', 'sqft_above', 'sqft_basement', 'yr_built', 'yr_renovated'] \n",
      "\n",
      "get_numpy_data(): print features_pdframe(head(2)\n",
      "   constant  bedrooms  bathrooms  sqft_living  sqft_lot  floors  waterfront  \\\n",
      "0         1       4.0        3.0       1960.0      5000     1.0           0   \n",
      "1         1       4.0        4.5       5420.0    101930     1.0           0   \n",
      "\n",
      "   view  condition  grade  sqft_above  sqft_basement  yr_built  yr_renovated  \n",
      "0     0          5      7        1050            910      1965             0  \n",
      "1     0          3     11        3890           1530      2001             0   \n",
      "\n",
      "get_numpy_data(): print features_pdframe.as_matrix()[0:2, :]\n",
      "[[  1.00000000e+00   4.00000000e+00   3.00000000e+00   1.96000000e+03\n",
      "    5.00000000e+03   1.00000000e+00   0.00000000e+00   0.00000000e+00\n",
      "    5.00000000e+00   7.00000000e+00   1.05000000e+03   9.10000000e+02\n",
      "    1.96500000e+03   0.00000000e+00]\n",
      " [  1.00000000e+00   4.00000000e+00   4.50000000e+00   5.42000000e+03\n",
      "    1.01930000e+05   1.00000000e+00   0.00000000e+00   0.00000000e+00\n",
      "    3.00000000e+00   1.10000000e+01   3.89000000e+03   1.53000000e+03\n",
      "    2.00100000e+03   0.00000000e+00]] \n",
      "\n",
      "get_numpy_data(): data_pdframe['price']\n",
      "0     604000.0\n",
      "1    1225000.0\n",
      "Name: price, dtype: float64 \n",
      "\n",
      "get_numpy_data(): data_pdframe['price'].as_matrix()\n",
      "[  604000.  1225000.] \n",
      "\n"
     ]
    }
   ],
   "source": [
    "(all_feature_matrix, output) = get_numpy_data(train_data, all_features, my_output)\n",
    "(normalized_all_feature_matrix, all_norms) = normalize_features(all_feature_matrix) # normalize features"
   ]
  },
  {
   "cell_type": "markdown",
   "metadata": {},
   "source": [
    "**19.** First, learn the weights with `l1_penalty=1e7`, on the training data. Initialize weights to all zeros, and set the `tolerance=1`.  Call resulting weights `weights1e7`, you will need them later."
   ]
  },
  {
   "cell_type": "code",
   "execution_count": 81,
   "metadata": {
    "collapsed": true
   },
   "outputs": [],
   "source": [
    "initial_weights = np.zeros(14)\n",
    "l1_penalty = 1e7\n",
    "tolerance = 1.0\n",
    "\n",
    "weights1e7 = lasso_cyclical_coordinate_descent(normalized_all_feature_matrix, output,\n",
    "                                            initial_weights, l1_penalty, tolerance)"
   ]
  },
  {
   "cell_type": "code",
   "execution_count": 82,
   "metadata": {
    "collapsed": false
   },
   "outputs": [],
   "source": [
    "# function to show only non-zero weights\n",
    "def show_nnz_features(w, f):    \n",
    "    for i in range(len(w)):\n",
    "        if i == 0:\n",
    "            continue\n",
    "        weight = w[i]\n",
    "        if weight != 0.:\n",
    "            print f[i - 1]"
   ]
  },
  {
   "cell_type": "markdown",
   "metadata": {},
   "source": [
    "***QUIZ QUESTION***\n",
    "\n",
    "**20.What features had non-zero weight in this case?**"
   ]
  },
  {
   "cell_type": "code",
   "execution_count": 83,
   "metadata": {
    "collapsed": false
   },
   "outputs": [
    {
     "name": "stdout",
     "output_type": "stream",
     "text": [
      "[('constant', 23864692.509538405), ('bedrooms', 0.0), ('bathrooms', 0.0), ('sqft_living', 30495548.132547192), ('sqft_lot', 0.0), ('floors', 0.0), ('waterfront', 1901633.614755936), ('view', 5705765.0167326573), ('condition', 0.0), ('grade', 0.0), ('sqft_above', 0.0), ('sqft_basement', 0.0), ('yr_built', 0.0), ('yr_renovated', 0.0)]\n"
     ]
    }
   ],
   "source": [
    "print(zip(['constant'] + all_features, weights1e7))"
   ]
  },
  {
   "cell_type": "code",
   "execution_count": 84,
   "metadata": {
    "collapsed": false
   },
   "outputs": [
    {
     "name": "stdout",
     "output_type": "stream",
     "text": [
      "sqft_living\n",
      "waterfront\n",
      "view\n"
     ]
    }
   ],
   "source": [
    "show_nnz_features(weights1e7, all_features)             "
   ]
  },
  {
   "cell_type": "markdown",
   "metadata": {
    "collapsed": true
   },
   "source": [
    "**21.** Next, learn the weights with `l1_penalty=1e8`, on the training data. Initialize weights to all zeros, and set the `tolerance=1`.  Call resulting weights `weights1e8`, you will need them later."
   ]
  },
  {
   "cell_type": "code",
   "execution_count": 85,
   "metadata": {
    "collapsed": true
   },
   "outputs": [],
   "source": [
    "initial_weights = np.zeros(14)\n",
    "l1_penalty = 1e8\n",
    "tolerance = 1.0\n",
    "\n",
    "weights1e8 = lasso_cyclical_coordinate_descent(normalized_all_feature_matrix, output,\n",
    "                                            initial_weights, l1_penalty, tolerance)"
   ]
  },
  {
   "cell_type": "markdown",
   "metadata": {},
   "source": [
    "***QUIZ QUESTION***\n",
    "\n",
    "**22. What features had non-zero weight in this case?**"
   ]
  },
  {
   "cell_type": "code",
   "execution_count": 86,
   "metadata": {
    "collapsed": false,
    "scrolled": true
   },
   "outputs": [
    {
     "name": "stdout",
     "output_type": "stream",
     "text": [
      "[('constant', 53621004.689714715), ('bedrooms', 0.0), ('bathrooms', 0.0), ('sqft_living', 0.0), ('sqft_lot', 0.0), ('floors', 0.0), ('waterfront', 0.0), ('view', 0.0), ('condition', 0.0), ('grade', 0.0), ('sqft_above', 0.0), ('sqft_basement', 0.0), ('yr_built', 0.0), ('yr_renovated', 0.0)]\n"
     ]
    }
   ],
   "source": [
    "print(zip(['constant'] + all_features, weights1e8))"
   ]
  },
  {
   "cell_type": "code",
   "execution_count": 87,
   "metadata": {
    "collapsed": true
   },
   "outputs": [],
   "source": [
    "show_nnz_features(weights1e8, all_features)    # shows nothins - so all zero except intercept"
   ]
  },
  {
   "cell_type": "markdown",
   "metadata": {},
   "source": [
    "**23.** Finally, learn the weights with `l1_penalty=1e4`, on the training data. Initialize weights to all zeros, and set the `tolerance=5e5`.  Call resulting weights `weights1e4`, you will need them later.  (This case will take quite a bit longer to converge than the others above.)"
   ]
  },
  {
   "cell_type": "code",
   "execution_count": 88,
   "metadata": {
    "collapsed": true
   },
   "outputs": [],
   "source": [
    "initial_weights = np.zeros(14)\n",
    "l1_penalty = 1e4\n",
    "tolerance = 5e5\n",
    "\n",
    "weights1e4 = lasso_cyclical_coordinate_descent(normalized_all_feature_matrix, output,\n",
    "                                            initial_weights, l1_penalty, tolerance)"
   ]
  },
  {
   "cell_type": "code",
   "execution_count": 89,
   "metadata": {
    "collapsed": false
   },
   "outputs": [
    {
     "name": "stdout",
     "output_type": "stream",
     "text": [
      "bedrooms\n",
      "bathrooms\n",
      "sqft_living\n",
      "sqft_lot\n",
      "floors\n",
      "waterfront\n",
      "view\n",
      "condition\n",
      "grade\n",
      "sqft_above\n",
      "sqft_basement\n",
      "yr_built\n",
      "yr_renovated\n"
     ]
    }
   ],
   "source": [
    "show_nnz_features(weights1e4, all_features)  "
   ]
  },
  {
   "cell_type": "markdown",
   "metadata": {},
   "source": [
    "***QUIZ QUESTION***\n",
    "\n",
    "**24. What features had non-zero weight in this case?** About 13 features out of 21 - see above"
   ]
  },
  {
   "cell_type": "code",
   "execution_count": 90,
   "metadata": {
    "collapsed": false
   },
   "outputs": [
    {
     "name": "stdout",
     "output_type": "stream",
     "text": [
      "[('constant', 57481091.133020647), ('bedrooms', -13652628.5402242), ('bathrooms', 12462713.071262423), ('sqft_living', 57942788.373312257), ('sqft_lot', -1475769.6942756311), ('floors', -4904547.7554655103), ('waterfront', 5349050.1863616901), ('view', 5845253.5621363353), ('condition', -416038.96981262043), ('grade', 2682274.5948850354), ('sqft_above', 242649.68555066799), ('sqft_basement', -1285549.6676812347), ('yr_built', -54779474.227683559), ('yr_renovated', 2167703.0661023338)]\n"
     ]
    }
   ],
   "source": [
    "print(zip(['constant'] + all_features, weights1e4))"
   ]
  },
  {
   "cell_type": "markdown",
   "metadata": {},
   "source": [
    "## Rescaling learned weights"
   ]
  },
  {
   "cell_type": "markdown",
   "metadata": {},
   "source": [
    "**25.** Recall that we normalized our feature matrix, before learning the weights.  To use these weights on a test set, we must normalize the test data in the same way.\n",
    "\n",
    "Alternatively, we can rescale the learned weights to include the normalization, so we never have to worry about normalizing the test data: \n",
    "\n",
    "In this case, we must scale the resulting weights so that we can make predictions with *original* features:\n",
    " 1. Store the norms of the original features to a vector called `norms`:\n",
    "```\n",
    "features, norms = normalize_features(features)\n",
    "```\n",
    " 2. Run Lasso on the normalized features and obtain a `weights` vector\n",
    " 3. Compute the weights for the original features by performing element-wise division, i.e.\n",
    "```\n",
    "weights_normalized = weights / norms\n",
    "```\n",
    "Now, we can apply `weights_normalized` to the test data, without normalizing it!"
   ]
  },
  {
   "cell_type": "markdown",
   "metadata": {},
   "source": [
    "**26.** Create a normalized version of each of the weights learned above. (`weights1e4`, `weights1e7`, `weights1e8`)."
   ]
  },
  {
   "cell_type": "code",
   "execution_count": 91,
   "metadata": {
    "collapsed": true
   },
   "outputs": [],
   "source": [
    "normalized_weights1e4 = weights1e4 / all_norms \n",
    "normalized_weights1e7 = weights1e7 / all_norms \n",
    "normalized_weights1e8 = weights1e8 / all_norms"
   ]
  },
  {
   "cell_type": "markdown",
   "metadata": {},
   "source": [
    "To check your results, if you call `normalized_weights1e7` the normalized version of `weights1e7`, then:\n",
    "```\n",
    "print normalized_weights1e7[3]\n",
    "```\n",
    "should return 161.31745624837794."
   ]
  },
  {
   "cell_type": "code",
   "execution_count": 92,
   "metadata": {
    "collapsed": false
   },
   "outputs": [
    {
     "name": "stdout",
     "output_type": "stream",
     "text": [
      "135.176516461\n"
     ]
    }
   ],
   "source": [
    "print normalized_weights1e7[3]"
   ]
  },
  {
   "cell_type": "markdown",
   "metadata": {},
   "source": [
    "## Evaluating each of the learned models on the test data"
   ]
  },
  {
   "cell_type": "markdown",
   "metadata": {},
   "source": [
    "**27.** Let's now evaluate the three models on the test data. Extract the feature matrix and output array from the TEST set. But this time, do NOT normalize the feature matrix. Instead, use the normalized version of weights to make predictions."
   ]
  },
  {
   "cell_type": "code",
   "execution_count": 93,
   "metadata": {
    "collapsed": false
   },
   "outputs": [
    {
     "name": "stdout",
     "output_type": "stream",
     "text": [
      "get_numpy_data(): Features ['constant', 'bedrooms', 'bathrooms', 'sqft_living', 'sqft_lot', 'floors', 'waterfront', 'view', 'condition', 'grade', 'sqft_above', 'sqft_basement', 'yr_built', 'yr_renovated'] \n",
      "\n",
      "get_numpy_data(): print features_pdframe(head(2)\n",
      "   constant  bedrooms  bathrooms  sqft_living  sqft_lot  floors  waterfront  \\\n",
      "0         1       3.0        2.5       1890.0      6560     2.0           0   \n",
      "1         1       5.0        2.0       1810.0      4850     1.5           0   \n",
      "\n",
      "   view  condition  grade  sqft_above  sqft_basement  yr_built  yr_renovated  \n",
      "0     0          3      7        1890              0      2003             0  \n",
      "1     0          3      7        1810              0      1900             0   \n",
      "\n",
      "get_numpy_data(): print features_pdframe.as_matrix()[0:2, :]\n",
      "[[  1.00000000e+00   3.00000000e+00   2.50000000e+00   1.89000000e+03\n",
      "    6.56000000e+03   2.00000000e+00   0.00000000e+00   0.00000000e+00\n",
      "    3.00000000e+00   7.00000000e+00   1.89000000e+03   0.00000000e+00\n",
      "    2.00300000e+03   0.00000000e+00]\n",
      " [  1.00000000e+00   5.00000000e+00   2.00000000e+00   1.81000000e+03\n",
      "    4.85000000e+03   1.50000000e+00   0.00000000e+00   0.00000000e+00\n",
      "    3.00000000e+00   7.00000000e+00   1.81000000e+03   0.00000000e+00\n",
      "    1.90000000e+03   0.00000000e+00]] \n",
      "\n",
      "get_numpy_data(): data_pdframe['price']\n",
      "0    323000.0\n",
      "1    530000.0\n",
      "Name: price, dtype: float64 \n",
      "\n",
      "get_numpy_data(): data_pdframe['price'].as_matrix()\n",
      "[ 323000.  530000.] \n",
      "\n"
     ]
    }
   ],
   "source": [
    "(test_feature_matrix, test_output) = get_numpy_data(test_data, all_features, 'price')"
   ]
  },
  {
   "cell_type": "markdown",
   "metadata": {},
   "source": [
    "Compute the RSS of each of the three normalized weights on the (unnormalized) `test_feature_matrix`:"
   ]
  },
  {
   "cell_type": "code",
   "execution_count": 94,
   "metadata": {
    "collapsed": false
   },
   "outputs": [
    {
     "name": "stdout",
     "output_type": "stream",
     "text": [
      "RSS 1.29085259902e+14\n",
      "RSS on TEST data with normalized_weights1e4: $129085259901909.140625\n"
     ]
    }
   ],
   "source": [
    "predictions = predict_output(test_feature_matrix, normalized_weights1e4)\n",
    "RSS = get_residual_sum_of_squares(predictions, test_output)\n",
    "print(\"RSS on TEST data with normalized_weights1e4: $%.6f\" % (RSS))"
   ]
  },
  {
   "cell_type": "code",
   "execution_count": 95,
   "metadata": {
    "collapsed": false
   },
   "outputs": [
    {
     "name": "stdout",
     "output_type": "stream",
     "text": [
      "RSS 1.63103564165e+14\n",
      "RSS on TEST data with normalized_weights1e7: $163103564164999.125000\n"
     ]
    }
   ],
   "source": [
    "predictions = predict_output(test_feature_matrix, normalized_weights1e7)\n",
    "RSS = get_residual_sum_of_squares(predictions, test_output)\n",
    "print(\"RSS on TEST data with normalized_weights1e7: $%.6f\" % (RSS))"
   ]
  },
  {
   "cell_type": "code",
   "execution_count": 96,
   "metadata": {
    "collapsed": false
   },
   "outputs": [
    {
     "name": "stdout",
     "output_type": "stream",
     "text": [
      "RSS 2.8471892521e+14\n",
      "RSS on TEST data with normalized_weights1e8: $284718925209874.000000\n"
     ]
    }
   ],
   "source": [
    "predictions = predict_output(test_feature_matrix, normalized_weights1e8)\n",
    "RSS = get_residual_sum_of_squares(predictions, test_output)\n",
    "print(\"RSS on TEST data with normalized_weights1e8: $%.6f\" % (RSS))"
   ]
  },
  {
   "cell_type": "markdown",
   "metadata": {},
   "source": [
    "***QUIZ QUESTION***\n",
    "\n",
    "Which model performed best on the test data? The one which had smallest lambda or l1_penalty=1e4, because this model allowed most flexible fit (13 features out 0f 21 had non zero weights). So by providing lowest cost/penalty to overfitting, most coefficients/weights were non-zero, allowing to fit data best,,,hence lowest bias and because rss ~ mse  = bias^2 + variance, this model gave lowest rss. On the other hand, with a very large L1 penalty of 1e8, all coeficients or weights were zero, except the intercept. So out of 21 features, non had non zero weights. So worst fit to data and hence BIAS^2 would be very very high (even though VAR would also be small), but because of BIAS^2 contribution to RSS, this model has the highest RSS."
   ]
  }
 ],
 "metadata": {
  "kernelspec": {
   "display_name": "Python 2",
   "language": "python",
   "name": "python2"
  },
  "language_info": {
   "codemirror_mode": {
    "name": "ipython",
    "version": 2
   },
   "file_extension": ".py",
   "mimetype": "text/x-python",
   "name": "python",
   "nbconvert_exporter": "python",
   "pygments_lexer": "ipython2",
   "version": "2.7.11"
  }
 },
 "nbformat": 4,
 "nbformat_minor": 0
}
